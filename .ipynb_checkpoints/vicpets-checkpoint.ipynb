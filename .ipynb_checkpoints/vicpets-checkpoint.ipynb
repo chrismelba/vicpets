{
 "cells": [
  {
   "cell_type": "code",
   "execution_count": 227,
   "metadata": {},
   "outputs": [],
   "source": [
    "import pandas as pd\n",
    "import numpy as np\n",
    "import matplotlib.pyplot as plt\n",
    "import string\n",
    "import seaborn as sns\n"
   ]
  },
  {
   "cell_type": "markdown",
   "metadata": {},
   "source": [
    "We are using the vic pet registration data here:\n",
    "https://www.kaggle.com/puppygogo/sa-dog-ownership-sample/version/4?#_=_\n",
    "\n",
    "And for urbanization data we're going to use the data here:\n",
    "https://arpc.gov.au/our-customers/postcodes/\n"
   ]
  },
  {
   "cell_type": "code",
   "execution_count": 228,
   "metadata": {},
   "outputs": [
    {
     "name": "stderr",
     "output_type": "stream",
     "text": [
      "C:\\Users\\chris\\Anaconda3\\lib\\site-packages\\IPython\\core\\interactiveshell.py:2785: DtypeWarning: Columns (4,6,7,11,13,14,17,18) have mixed types. Specify dtype option on import or set low_memory=False.\n",
      "  interactivity=interactivity, compiler=compiler, result=result)\n"
     ]
    }
   ],
   "source": [
    "df = pd.read_csv('Registrations_Master_Vic.csv')\n",
    "postcodes = pd.read_csv('ARPC_Postcodes.csv')\n",
    "melbsuburbs = pd.read_csv('MelbourneSuburbs.csv', header = None).T\n",
    "melbsuburbs.columns = ['Suburb']\n",
    "houseprice = pd.read_csv('vichouseprice.csv')"
   ]
  },
  {
   "cell_type": "code",
   "execution_count": 229,
   "metadata": {},
   "outputs": [
    {
     "data": {
      "text/html": [
       "<div>\n",
       "<style scoped>\n",
       "    .dataframe tbody tr th:only-of-type {\n",
       "        vertical-align: middle;\n",
       "    }\n",
       "\n",
       "    .dataframe tbody tr th {\n",
       "        vertical-align: top;\n",
       "    }\n",
       "\n",
       "    .dataframe thead th {\n",
       "        text-align: right;\n",
       "    }\n",
       "</style>\n",
       "<table border=\"1\" class=\"dataframe\">\n",
       "  <thead>\n",
       "    <tr style=\"text-align: right;\">\n",
       "      <th></th>\n",
       "      <th>State</th>\n",
       "      <th>Region</th>\n",
       "      <th>Reference</th>\n",
       "      <th>Animal_Type</th>\n",
       "      <th>Animal_Name</th>\n",
       "      <th>Breed_Description_primary</th>\n",
       "      <th>Breed_Description_secondary</th>\n",
       "      <th>Status_Description</th>\n",
       "      <th>Suburb</th>\n",
       "      <th>Postcode</th>\n",
       "      <th>...</th>\n",
       "      <th>Gender</th>\n",
       "      <th>Colour_primary</th>\n",
       "      <th>Colour_secondary</th>\n",
       "      <th>Animal_Desexed</th>\n",
       "      <th>Animal Date of Birth</th>\n",
       "      <th>Age</th>\n",
       "      <th>Microchipped</th>\n",
       "      <th>Registered</th>\n",
       "      <th>latitude</th>\n",
       "      <th>longitude</th>\n",
       "    </tr>\n",
       "  </thead>\n",
       "  <tbody>\n",
       "    <tr>\n",
       "      <th>0</th>\n",
       "      <td>Victoria</td>\n",
       "      <td>Golden Plains</td>\n",
       "      <td>19344.0</td>\n",
       "      <td>DOG</td>\n",
       "      <td>NEKEYTA</td>\n",
       "      <td>HUSKY</td>\n",
       "      <td>NaN</td>\n",
       "      <td>CATEGORY 2</td>\n",
       "      <td>BANNOCKBURN</td>\n",
       "      <td>3331.0</td>\n",
       "      <td>...</td>\n",
       "      <td>F</td>\n",
       "      <td>GREY &amp; WHITE</td>\n",
       "      <td>NaN</td>\n",
       "      <td>Y</td>\n",
       "      <td>NaN</td>\n",
       "      <td>NaN</td>\n",
       "      <td>Y</td>\n",
       "      <td>NaN</td>\n",
       "      <td>-38.046528</td>\n",
       "      <td>144.171067</td>\n",
       "    </tr>\n",
       "    <tr>\n",
       "      <th>1</th>\n",
       "      <td>Victoria</td>\n",
       "      <td>Golden Plains</td>\n",
       "      <td>19350.0</td>\n",
       "      <td>DOG</td>\n",
       "      <td>CHIEF</td>\n",
       "      <td>HUSKY</td>\n",
       "      <td>NaN</td>\n",
       "      <td>CATEGORY 2</td>\n",
       "      <td>BANNOCKBURN</td>\n",
       "      <td>3331.0</td>\n",
       "      <td>...</td>\n",
       "      <td>M</td>\n",
       "      <td>BLACK/WHITE</td>\n",
       "      <td>NaN</td>\n",
       "      <td>Y</td>\n",
       "      <td>NaN</td>\n",
       "      <td>NaN</td>\n",
       "      <td>Y</td>\n",
       "      <td>NaN</td>\n",
       "      <td>-38.046528</td>\n",
       "      <td>144.171067</td>\n",
       "    </tr>\n",
       "    <tr>\n",
       "      <th>2</th>\n",
       "      <td>Victoria</td>\n",
       "      <td>Golden Plains</td>\n",
       "      <td>7954.0</td>\n",
       "      <td>DOG</td>\n",
       "      <td>BUNDI</td>\n",
       "      <td>JACK RUSSELL TERRIER</td>\n",
       "      <td>NaN</td>\n",
       "      <td>CATEGORY 1</td>\n",
       "      <td>BANNOCKBURN</td>\n",
       "      <td>3331.0</td>\n",
       "      <td>...</td>\n",
       "      <td>M</td>\n",
       "      <td>TAN/WHITE</td>\n",
       "      <td>NaN</td>\n",
       "      <td>N</td>\n",
       "      <td>NaN</td>\n",
       "      <td>NaN</td>\n",
       "      <td>N</td>\n",
       "      <td>NaN</td>\n",
       "      <td>-38.046528</td>\n",
       "      <td>144.171067</td>\n",
       "    </tr>\n",
       "    <tr>\n",
       "      <th>3</th>\n",
       "      <td>Victoria</td>\n",
       "      <td>Golden Plains</td>\n",
       "      <td>40335.0</td>\n",
       "      <td>DOG</td>\n",
       "      <td>BOSSY</td>\n",
       "      <td>BULL TERRIER</td>\n",
       "      <td>NaN</td>\n",
       "      <td>CATEGORY 1</td>\n",
       "      <td>BANNOCKBURN</td>\n",
       "      <td>3331.0</td>\n",
       "      <td>...</td>\n",
       "      <td>M</td>\n",
       "      <td>TRI</td>\n",
       "      <td>NaN</td>\n",
       "      <td>N</td>\n",
       "      <td>NaN</td>\n",
       "      <td>NaN</td>\n",
       "      <td>N</td>\n",
       "      <td>NaN</td>\n",
       "      <td>-38.046528</td>\n",
       "      <td>144.171067</td>\n",
       "    </tr>\n",
       "    <tr>\n",
       "      <th>4</th>\n",
       "      <td>Victoria</td>\n",
       "      <td>Golden Plains</td>\n",
       "      <td>4689.0</td>\n",
       "      <td>CAT</td>\n",
       "      <td>KINKY</td>\n",
       "      <td>CROSS BREED CAT</td>\n",
       "      <td>NaN</td>\n",
       "      <td>CATEGORY 2</td>\n",
       "      <td>BANNOCKBURN</td>\n",
       "      <td>3331.0</td>\n",
       "      <td>...</td>\n",
       "      <td>M</td>\n",
       "      <td>WHITE</td>\n",
       "      <td>NaN</td>\n",
       "      <td>Y</td>\n",
       "      <td>NaN</td>\n",
       "      <td>NaN</td>\n",
       "      <td>Y</td>\n",
       "      <td>NaN</td>\n",
       "      <td>-38.046528</td>\n",
       "      <td>144.171067</td>\n",
       "    </tr>\n",
       "  </tbody>\n",
       "</table>\n",
       "<p>5 rows × 21 columns</p>\n",
       "</div>"
      ],
      "text/plain": [
       "      State         Region  Reference Animal_Type Animal_Name  \\\n",
       "0  Victoria  Golden Plains    19344.0        DOG     NEKEYTA    \n",
       "1  Victoria  Golden Plains    19350.0        DOG       CHIEF    \n",
       "2  Victoria  Golden Plains     7954.0        DOG       BUNDI    \n",
       "3  Victoria  Golden Plains    40335.0        DOG       BOSSY    \n",
       "4  Victoria  Golden Plains     4689.0        CAT       KINKY    \n",
       "\n",
       "  Breed_Description_primary Breed_Description_secondary Status_Description  \\\n",
       "0                    HUSKY                          NaN        CATEGORY 2    \n",
       "1                    HUSKY                          NaN        CATEGORY 2    \n",
       "2     JACK RUSSELL TERRIER                          NaN         CATEGORY 1   \n",
       "3             BULL TERRIER                          NaN         CATEGORY 1   \n",
       "4          CROSS BREED CAT                          NaN         CATEGORY 2   \n",
       "\n",
       "        Suburb  Postcode     ...      Gender Colour_primary Colour_secondary  \\\n",
       "0  BANNOCKBURN    3331.0     ...           F  GREY & WHITE               NaN   \n",
       "1  BANNOCKBURN    3331.0     ...           M   BLACK/WHITE               NaN   \n",
       "2  BANNOCKBURN    3331.0     ...           M     TAN/WHITE               NaN   \n",
       "3  BANNOCKBURN    3331.0     ...           M           TRI               NaN   \n",
       "4  BANNOCKBURN    3331.0     ...           M         WHITE               NaN   \n",
       "\n",
       "  Animal_Desexed Animal Date of Birth  Age  Microchipped Registered  \\\n",
       "0              Y                  NaN  NaN             Y        NaN   \n",
       "1              Y                  NaN  NaN             Y        NaN   \n",
       "2              N                  NaN  NaN             N        NaN   \n",
       "3              N                  NaN  NaN             N        NaN   \n",
       "4              Y                  NaN  NaN             Y        NaN   \n",
       "\n",
       "    latitude   longitude  \n",
       "0 -38.046528  144.171067  \n",
       "1 -38.046528  144.171067  \n",
       "2 -38.046528  144.171067  \n",
       "3 -38.046528  144.171067  \n",
       "4 -38.046528  144.171067  \n",
       "\n",
       "[5 rows x 21 columns]"
      ]
     },
     "execution_count": 229,
     "metadata": {},
     "output_type": "execute_result"
    }
   ],
   "source": [
    "df.head()"
   ]
  },
  {
   "cell_type": "code",
   "execution_count": 230,
   "metadata": {},
   "outputs": [
    {
     "data": {
      "text/html": [
       "<div>\n",
       "<style scoped>\n",
       "    .dataframe tbody tr th:only-of-type {\n",
       "        vertical-align: middle;\n",
       "    }\n",
       "\n",
       "    .dataframe tbody tr th {\n",
       "        vertical-align: top;\n",
       "    }\n",
       "\n",
       "    .dataframe thead th {\n",
       "        text-align: right;\n",
       "    }\n",
       "</style>\n",
       "<table border=\"1\" class=\"dataframe\">\n",
       "  <thead>\n",
       "    <tr style=\"text-align: right;\">\n",
       "      <th></th>\n",
       "      <th>State</th>\n",
       "      <th>Region</th>\n",
       "      <th>Reference</th>\n",
       "      <th>Animal_Type</th>\n",
       "      <th>Animal_Name</th>\n",
       "      <th>Breed_Description_primary</th>\n",
       "      <th>Breed_Description_secondary</th>\n",
       "      <th>Status_Description</th>\n",
       "      <th>Suburb</th>\n",
       "      <th>Postcode</th>\n",
       "      <th>...</th>\n",
       "      <th>Gender</th>\n",
       "      <th>Colour_primary</th>\n",
       "      <th>Colour_secondary</th>\n",
       "      <th>Animal_Desexed</th>\n",
       "      <th>Animal Date of Birth</th>\n",
       "      <th>Age</th>\n",
       "      <th>Microchipped</th>\n",
       "      <th>Registered</th>\n",
       "      <th>latitude</th>\n",
       "      <th>longitude</th>\n",
       "    </tr>\n",
       "  </thead>\n",
       "  <tbody>\n",
       "    <tr>\n",
       "      <th>6410</th>\n",
       "      <td>Victoria</td>\n",
       "      <td>Golden Plains</td>\n",
       "      <td>40189.0</td>\n",
       "      <td>DOG</td>\n",
       "      <td>MOLLY</td>\n",
       "      <td>GOLDEN RETRIEVER</td>\n",
       "      <td>NaN</td>\n",
       "      <td>CATEGORY 1</td>\n",
       "      <td>LETHBRIDGE</td>\n",
       "      <td>3332.0</td>\n",
       "      <td>...</td>\n",
       "      <td>F</td>\n",
       "      <td>DARK GOLD</td>\n",
       "      <td>NaN</td>\n",
       "      <td>N</td>\n",
       "      <td>NaN</td>\n",
       "      <td>NaN</td>\n",
       "      <td>N</td>\n",
       "      <td>NaN</td>\n",
       "      <td>-37.962809</td>\n",
       "      <td>144.139178</td>\n",
       "    </tr>\n",
       "    <tr>\n",
       "      <th>6411</th>\n",
       "      <td>Victoria</td>\n",
       "      <td>Golden Plains</td>\n",
       "      <td>30085.0</td>\n",
       "      <td>DOG</td>\n",
       "      <td>NALA</td>\n",
       "      <td>WHIPPET</td>\n",
       "      <td>NaN</td>\n",
       "      <td>CATEGORY 2</td>\n",
       "      <td>BANNOCKBURN</td>\n",
       "      <td>3331.0</td>\n",
       "      <td>...</td>\n",
       "      <td>F</td>\n",
       "      <td>BRINDLE</td>\n",
       "      <td>NaN</td>\n",
       "      <td>Y</td>\n",
       "      <td>NaN</td>\n",
       "      <td>NaN</td>\n",
       "      <td>Y</td>\n",
       "      <td>NaN</td>\n",
       "      <td>-38.046528</td>\n",
       "      <td>144.171067</td>\n",
       "    </tr>\n",
       "    <tr>\n",
       "      <th>6412</th>\n",
       "      <td>Victoria</td>\n",
       "      <td>Golden Plains</td>\n",
       "      <td>40008.0</td>\n",
       "      <td>DOG</td>\n",
       "      <td>JASPER</td>\n",
       "      <td>MALT./SHIH TZU X</td>\n",
       "      <td>NaN</td>\n",
       "      <td>CATEGORY 2</td>\n",
       "      <td>BANNOCKBURN</td>\n",
       "      <td>3331.0</td>\n",
       "      <td>...</td>\n",
       "      <td>M</td>\n",
       "      <td>BLACK &amp; TAN</td>\n",
       "      <td>NaN</td>\n",
       "      <td>Y</td>\n",
       "      <td>NaN</td>\n",
       "      <td>NaN</td>\n",
       "      <td>Y</td>\n",
       "      <td>NaN</td>\n",
       "      <td>-38.046528</td>\n",
       "      <td>144.171067</td>\n",
       "    </tr>\n",
       "    <tr>\n",
       "      <th>6413</th>\n",
       "      <td>Victoria</td>\n",
       "      <td>Golden Plains</td>\n",
       "      <td>16774.0</td>\n",
       "      <td>DOG</td>\n",
       "      <td>CLYDE</td>\n",
       "      <td>STAFFORDSHIRE BULL TERRIER</td>\n",
       "      <td>NaN</td>\n",
       "      <td>CATEGORY 2 PENSIONER</td>\n",
       "      <td>BANNOCKBURN</td>\n",
       "      <td>3331.0</td>\n",
       "      <td>...</td>\n",
       "      <td>M</td>\n",
       "      <td>BRINDLE AND WHITE</td>\n",
       "      <td>NaN</td>\n",
       "      <td>Y</td>\n",
       "      <td>NaN</td>\n",
       "      <td>NaN</td>\n",
       "      <td>Y</td>\n",
       "      <td>NaN</td>\n",
       "      <td>-38.046528</td>\n",
       "      <td>144.171067</td>\n",
       "    </tr>\n",
       "    <tr>\n",
       "      <th>6414</th>\n",
       "      <td>Victoria</td>\n",
       "      <td>Greater Dandenong</td>\n",
       "      <td>NaN</td>\n",
       "      <td>DOG</td>\n",
       "      <td>NaN</td>\n",
       "      <td>Maltese X</td>\n",
       "      <td>NaN</td>\n",
       "      <td>NaN</td>\n",
       "      <td>NOBLE PARK</td>\n",
       "      <td>3174.0</td>\n",
       "      <td>...</td>\n",
       "      <td>NaN</td>\n",
       "      <td>White &amp; Cream</td>\n",
       "      <td>NaN</td>\n",
       "      <td>Y</td>\n",
       "      <td>NaN</td>\n",
       "      <td>NaN</td>\n",
       "      <td>NaN</td>\n",
       "      <td>NaN</td>\n",
       "      <td>-37.967254</td>\n",
       "      <td>145.176167</td>\n",
       "    </tr>\n",
       "    <tr>\n",
       "      <th>6415</th>\n",
       "      <td>Victoria</td>\n",
       "      <td>Greater Dandenong</td>\n",
       "      <td>NaN</td>\n",
       "      <td>DOG</td>\n",
       "      <td>NaN</td>\n",
       "      <td>Maltese X</td>\n",
       "      <td>NaN</td>\n",
       "      <td>NaN</td>\n",
       "      <td>NOBLE PARK</td>\n",
       "      <td>3174.0</td>\n",
       "      <td>...</td>\n",
       "      <td>NaN</td>\n",
       "      <td>White &amp; Tan</td>\n",
       "      <td>NaN</td>\n",
       "      <td>Y</td>\n",
       "      <td>NaN</td>\n",
       "      <td>NaN</td>\n",
       "      <td>NaN</td>\n",
       "      <td>NaN</td>\n",
       "      <td>-37.967254</td>\n",
       "      <td>145.176167</td>\n",
       "    </tr>\n",
       "    <tr>\n",
       "      <th>6416</th>\n",
       "      <td>Victoria</td>\n",
       "      <td>Greater Dandenong</td>\n",
       "      <td>NaN</td>\n",
       "      <td>DOG</td>\n",
       "      <td>NaN</td>\n",
       "      <td>Staffordshire Bull Terrier</td>\n",
       "      <td>NaN</td>\n",
       "      <td>NaN</td>\n",
       "      <td>DANDENONG SOUTH</td>\n",
       "      <td>3175.0</td>\n",
       "      <td>...</td>\n",
       "      <td>NaN</td>\n",
       "      <td>Black &amp; Brindle</td>\n",
       "      <td>NaN</td>\n",
       "      <td>N</td>\n",
       "      <td>NaN</td>\n",
       "      <td>NaN</td>\n",
       "      <td>NaN</td>\n",
       "      <td>NaN</td>\n",
       "      <td>-38.022430</td>\n",
       "      <td>145.237380</td>\n",
       "    </tr>\n",
       "    <tr>\n",
       "      <th>6417</th>\n",
       "      <td>Victoria</td>\n",
       "      <td>Greater Dandenong</td>\n",
       "      <td>NaN</td>\n",
       "      <td>DOG</td>\n",
       "      <td>NaN</td>\n",
       "      <td>German Shepherd</td>\n",
       "      <td>NaN</td>\n",
       "      <td>NaN</td>\n",
       "      <td>DANDENONG SOUTH</td>\n",
       "      <td>3175.0</td>\n",
       "      <td>...</td>\n",
       "      <td>NaN</td>\n",
       "      <td>Tri Coloured</td>\n",
       "      <td>NaN</td>\n",
       "      <td>Y</td>\n",
       "      <td>NaN</td>\n",
       "      <td>NaN</td>\n",
       "      <td>NaN</td>\n",
       "      <td>NaN</td>\n",
       "      <td>-38.022430</td>\n",
       "      <td>145.237380</td>\n",
       "    </tr>\n",
       "    <tr>\n",
       "      <th>6418</th>\n",
       "      <td>Victoria</td>\n",
       "      <td>Greater Dandenong</td>\n",
       "      <td>NaN</td>\n",
       "      <td>DOG</td>\n",
       "      <td>NaN</td>\n",
       "      <td>Terrier X</td>\n",
       "      <td>NaN</td>\n",
       "      <td>NaN</td>\n",
       "      <td>DANDENONG NORTH</td>\n",
       "      <td>3175.0</td>\n",
       "      <td>...</td>\n",
       "      <td>NaN</td>\n",
       "      <td>Tri Coloured</td>\n",
       "      <td>NaN</td>\n",
       "      <td>Y</td>\n",
       "      <td>NaN</td>\n",
       "      <td>NaN</td>\n",
       "      <td>NaN</td>\n",
       "      <td>NaN</td>\n",
       "      <td>-37.965724</td>\n",
       "      <td>145.205645</td>\n",
       "    </tr>\n",
       "    <tr>\n",
       "      <th>6419</th>\n",
       "      <td>Victoria</td>\n",
       "      <td>Greater Dandenong</td>\n",
       "      <td>NaN</td>\n",
       "      <td>DOG</td>\n",
       "      <td>NaN</td>\n",
       "      <td>Maltese X</td>\n",
       "      <td>NaN</td>\n",
       "      <td>NaN</td>\n",
       "      <td>DANDENONG NORTH</td>\n",
       "      <td>3175.0</td>\n",
       "      <td>...</td>\n",
       "      <td>NaN</td>\n",
       "      <td>White &amp; Tan</td>\n",
       "      <td>NaN</td>\n",
       "      <td>Y</td>\n",
       "      <td>NaN</td>\n",
       "      <td>NaN</td>\n",
       "      <td>NaN</td>\n",
       "      <td>NaN</td>\n",
       "      <td>-37.965724</td>\n",
       "      <td>145.205645</td>\n",
       "    </tr>\n",
       "  </tbody>\n",
       "</table>\n",
       "<p>10 rows × 21 columns</p>\n",
       "</div>"
      ],
      "text/plain": [
       "         State             Region  Reference Animal_Type Animal_Name  \\\n",
       "6410  Victoria      Golden Plains    40189.0        DOG       MOLLY    \n",
       "6411  Victoria      Golden Plains    30085.0        DOG        NALA    \n",
       "6412  Victoria      Golden Plains    40008.0        DOG      JASPER    \n",
       "6413  Victoria      Golden Plains    16774.0        DOG       CLYDE    \n",
       "6414  Victoria  Greater Dandenong        NaN        DOG          NaN   \n",
       "6415  Victoria  Greater Dandenong        NaN        DOG          NaN   \n",
       "6416  Victoria  Greater Dandenong        NaN        DOG          NaN   \n",
       "6417  Victoria  Greater Dandenong        NaN        DOG          NaN   \n",
       "6418  Victoria  Greater Dandenong        NaN        DOG          NaN   \n",
       "6419  Victoria  Greater Dandenong        NaN        DOG          NaN   \n",
       "\n",
       "        Breed_Description_primary Breed_Description_secondary  \\\n",
       "6410            GOLDEN RETRIEVER                          NaN   \n",
       "6411                     WHIPPET                          NaN   \n",
       "6412            MALT./SHIH TZU X                          NaN   \n",
       "6413  STAFFORDSHIRE BULL TERRIER                          NaN   \n",
       "6414                    Maltese X                         NaN   \n",
       "6415                    Maltese X                         NaN   \n",
       "6416   Staffordshire Bull Terrier                         NaN   \n",
       "6417              German Shepherd                         NaN   \n",
       "6418                    Terrier X                         NaN   \n",
       "6419                    Maltese X                         NaN   \n",
       "\n",
       "         Status_Description           Suburb  Postcode     ...      Gender  \\\n",
       "6410             CATEGORY 1       LETHBRIDGE    3332.0     ...           F   \n",
       "6411            CATEGORY 2       BANNOCKBURN    3331.0     ...           F   \n",
       "6412            CATEGORY 2       BANNOCKBURN    3331.0     ...           M   \n",
       "6413  CATEGORY 2 PENSIONER       BANNOCKBURN    3331.0     ...           M   \n",
       "6414                    NaN       NOBLE PARK    3174.0     ...         NaN   \n",
       "6415                    NaN       NOBLE PARK    3174.0     ...         NaN   \n",
       "6416                    NaN  DANDENONG SOUTH    3175.0     ...         NaN   \n",
       "6417                    NaN  DANDENONG SOUTH    3175.0     ...         NaN   \n",
       "6418                    NaN  DANDENONG NORTH    3175.0     ...         NaN   \n",
       "6419                    NaN  DANDENONG NORTH    3175.0     ...         NaN   \n",
       "\n",
       "          Colour_primary Colour_secondary Animal_Desexed Animal Date of Birth  \\\n",
       "6410          DARK GOLD               NaN              N                  NaN   \n",
       "6411            BRINDLE               NaN              Y                  NaN   \n",
       "6412        BLACK & TAN               NaN              Y                  NaN   \n",
       "6413  BRINDLE AND WHITE               NaN              Y                  NaN   \n",
       "6414       White & Cream              NaN              Y                  NaN   \n",
       "6415         White & Tan              NaN              Y                  NaN   \n",
       "6416     Black & Brindle              NaN              N                  NaN   \n",
       "6417        Tri Coloured              NaN              Y                  NaN   \n",
       "6418        Tri Coloured              NaN              Y                  NaN   \n",
       "6419         White & Tan              NaN              Y                  NaN   \n",
       "\n",
       "      Age  Microchipped Registered   latitude   longitude  \n",
       "6410  NaN             N        NaN -37.962809  144.139178  \n",
       "6411  NaN             Y        NaN -38.046528  144.171067  \n",
       "6412  NaN             Y        NaN -38.046528  144.171067  \n",
       "6413  NaN             Y        NaN -38.046528  144.171067  \n",
       "6414  NaN           NaN        NaN -37.967254  145.176167  \n",
       "6415  NaN           NaN        NaN -37.967254  145.176167  \n",
       "6416  NaN           NaN        NaN -38.022430  145.237380  \n",
       "6417  NaN           NaN        NaN -38.022430  145.237380  \n",
       "6418  NaN           NaN        NaN -37.965724  145.205645  \n",
       "6419  NaN           NaN        NaN -37.965724  145.205645  \n",
       "\n",
       "[10 rows x 21 columns]"
      ]
     },
     "execution_count": 230,
     "metadata": {},
     "output_type": "execute_result"
    }
   ],
   "source": [
    "df[6410:].head(10)"
   ]
  },
  {
   "cell_type": "code",
   "execution_count": 231,
   "metadata": {},
   "outputs": [
    {
     "data": {
      "text/html": [
       "<div>\n",
       "<style scoped>\n",
       "    .dataframe tbody tr th:only-of-type {\n",
       "        vertical-align: middle;\n",
       "    }\n",
       "\n",
       "    .dataframe tbody tr th {\n",
       "        vertical-align: top;\n",
       "    }\n",
       "\n",
       "    .dataframe thead th {\n",
       "        text-align: right;\n",
       "    }\n",
       "</style>\n",
       "<table border=\"1\" class=\"dataframe\">\n",
       "  <thead>\n",
       "    <tr style=\"text-align: right;\">\n",
       "      <th></th>\n",
       "      <th>Suburb</th>\n",
       "      <th>Melbourne</th>\n",
       "    </tr>\n",
       "  </thead>\n",
       "  <tbody>\n",
       "    <tr>\n",
       "      <th>0</th>\n",
       "      <td>abbotsford</td>\n",
       "      <td>True</td>\n",
       "    </tr>\n",
       "    <tr>\n",
       "      <th>1</th>\n",
       "      <td>aberfeldie</td>\n",
       "      <td>True</td>\n",
       "    </tr>\n",
       "    <tr>\n",
       "      <th>2</th>\n",
       "      <td>airport west</td>\n",
       "      <td>True</td>\n",
       "    </tr>\n",
       "    <tr>\n",
       "      <th>3</th>\n",
       "      <td>albanvale</td>\n",
       "      <td>True</td>\n",
       "    </tr>\n",
       "    <tr>\n",
       "      <th>4</th>\n",
       "      <td>albert park</td>\n",
       "      <td>True</td>\n",
       "    </tr>\n",
       "  </tbody>\n",
       "</table>\n",
       "</div>"
      ],
      "text/plain": [
       "         Suburb  Melbourne\n",
       "0    abbotsford       True\n",
       "1    aberfeldie       True\n",
       "2  airport west       True\n",
       "3     albanvale       True\n",
       "4   albert park       True"
      ]
     },
     "execution_count": 231,
     "metadata": {},
     "output_type": "execute_result"
    }
   ],
   "source": [
    "melbsuburbs.Suburb = melbsuburbs.Suburb.apply(lambda x: ' '.join(str(x).split()).lower())\n",
    "melbsuburbs['Melbourne'] = True\n",
    "melbsuburbs.head()\n",
    "\n"
   ]
  },
  {
   "cell_type": "code",
   "execution_count": 232,
   "metadata": {},
   "outputs": [
    {
     "name": "stdout",
     "output_type": "stream",
     "text": [
      "<class 'pandas.core.frame.DataFrame'>\n",
      "RangeIndex: 158026 entries, 0 to 158025\n",
      "Data columns (total 21 columns):\n",
      "State                          158026 non-null object\n",
      "Region                         158026 non-null object\n",
      "Reference                      13646 non-null float64\n",
      "Animal_Type                    158026 non-null object\n",
      "Animal_Name                    111706 non-null object\n",
      "Breed_Description_primary      154833 non-null object\n",
      "Breed_Description_secondary    209 non-null object\n",
      "Status_Description             10509 non-null object\n",
      "Suburb                         157953 non-null object\n",
      "Postcode                       62137 non-null float64\n",
      "Year                           0 non-null float64\n",
      "Gender                         19180 non-null object\n",
      "Colour_primary                 153806 non-null object\n",
      "Colour_secondary               2459 non-null object\n",
      "Animal_Desexed                 25790 non-null object\n",
      "Animal Date of Birth           4095 non-null float64\n",
      "Age                            88971 non-null float64\n",
      "Microchipped                   13646 non-null object\n",
      "Registered                     102143 non-null object\n",
      "latitude                       105039 non-null float64\n",
      "longitude                      105039 non-null float64\n",
      "dtypes: float64(7), object(14)\n",
      "memory usage: 25.3+ MB\n"
     ]
    }
   ],
   "source": [
    "df.info()"
   ]
  },
  {
   "cell_type": "code",
   "execution_count": 233,
   "metadata": {},
   "outputs": [
    {
     "data": {
      "text/plain": [
       "array(['DOG ', 'CAT ', 'Cat                                     ',\n",
       "       'Dog                                     ', 'Dog', 'Cat', 'dog',\n",
       "       'cat', 'Dog       ', 'Cat       '], dtype=object)"
      ]
     },
     "execution_count": 233,
     "metadata": {},
     "output_type": "execute_result"
    }
   ],
   "source": [
    "df.Animal_Type.unique()"
   ]
  },
  {
   "cell_type": "markdown",
   "metadata": {},
   "source": [
    "Clearly we need to do some clean-up on the data"
   ]
  },
  {
   "cell_type": "code",
   "execution_count": 234,
   "metadata": {},
   "outputs": [],
   "source": [
    "df.Animal_Type = df.Animal_Type.apply(lambda x: ''.join(str(x).split()).lower())\n",
    "df.Suburb = df.Suburb.apply(lambda x: ' '.join(str(x).split()).lower())\n",
    "df.Breed_Description_primary = df.Breed_Description_primary.apply(lambda x: ' '.join(str(x).split()).lower())\n",
    "df.Breed_Description_primary = df.Breed_Description_primary.apply(lambda x: x.replace('(cross)', 'x'))\n",
    "df.Animal_Name = df.Animal_Name.apply(lambda x: ' '.join(str(x).split()).lower())\n",
    "\n",
    "df.Colour_primary = df.Colour_primary.apply(lambda x: ' '.join(str(x).split()).lower())\n",
    "\n"
   ]
  },
  {
   "cell_type": "code",
   "execution_count": 235,
   "metadata": {},
   "outputs": [
    {
     "data": {
      "text/html": [
       "<div>\n",
       "<style scoped>\n",
       "    .dataframe tbody tr th:only-of-type {\n",
       "        vertical-align: middle;\n",
       "    }\n",
       "\n",
       "    .dataframe tbody tr th {\n",
       "        vertical-align: top;\n",
       "    }\n",
       "\n",
       "    .dataframe thead th {\n",
       "        text-align: right;\n",
       "    }\n",
       "</style>\n",
       "<table border=\"1\" class=\"dataframe\">\n",
       "  <thead>\n",
       "    <tr style=\"text-align: right;\">\n",
       "      <th></th>\n",
       "      <th>latitude</th>\n",
       "      <th>longitude</th>\n",
       "      <th>streetAddress</th>\n",
       "      <th>suburb</th>\n",
       "      <th>postcode</th>\n",
       "      <th>region</th>\n",
       "      <th>bedrooms</th>\n",
       "      <th>bathrooms</th>\n",
       "      <th>parkingSpaces</th>\n",
       "      <th>propertyType</th>\n",
       "      <th>price</th>\n",
       "      <th>listingId</th>\n",
       "      <th>title</th>\n",
       "      <th>dateSold</th>\n",
       "      <th>modifiedDate</th>\n",
       "    </tr>\n",
       "  </thead>\n",
       "  <tbody>\n",
       "    <tr>\n",
       "      <th>0</th>\n",
       "      <td>-38.276067</td>\n",
       "      <td>144.485488</td>\n",
       "      <td>6 Corymbia Circuit</td>\n",
       "      <td>Barwon Heads</td>\n",
       "      <td>3227</td>\n",
       "      <td>bellarine_peninsula</td>\n",
       "      <td>3</td>\n",
       "      <td>2</td>\n",
       "      <td>2</td>\n",
       "      <td>house</td>\n",
       "      <td>$1,255,000</td>\n",
       "      <td>129714950</td>\n",
       "      <td>Luxurious Coastal Lifestyle Awaits</td>\n",
       "      <td>2018-11-06</td>\n",
       "      <td>2018-11-06T02:00:19Z</td>\n",
       "    </tr>\n",
       "    <tr>\n",
       "      <th>1</th>\n",
       "      <td>-38.238159</td>\n",
       "      <td>144.545576</td>\n",
       "      <td>9 La Bella Street</td>\n",
       "      <td>Ocean Grove</td>\n",
       "      <td>3226</td>\n",
       "      <td>bellarine_peninsula</td>\n",
       "      <td>4</td>\n",
       "      <td>2</td>\n",
       "      <td>2</td>\n",
       "      <td>house</td>\n",
       "      <td>$725,000</td>\n",
       "      <td>129219294</td>\n",
       "      <td>Laid Back Family Living In An Idyllic Location</td>\n",
       "      <td>2018-11-06</td>\n",
       "      <td>2018-11-06T04:01:41Z</td>\n",
       "    </tr>\n",
       "    <tr>\n",
       "      <th>2</th>\n",
       "      <td>-37.638387</td>\n",
       "      <td>144.922701</td>\n",
       "      <td>26 Greensted Grove</td>\n",
       "      <td>Roxburgh Park</td>\n",
       "      <td>3064</td>\n",
       "      <td>melbourne___northern_region</td>\n",
       "      <td>4</td>\n",
       "      <td>2</td>\n",
       "      <td>2</td>\n",
       "      <td>house</td>\n",
       "      <td>$670,000</td>\n",
       "      <td>129517974</td>\n",
       "      <td>Oversized &amp; park-facing</td>\n",
       "      <td>2018-11-06</td>\n",
       "      <td>2018-11-06T02:37:57Z</td>\n",
       "    </tr>\n",
       "    <tr>\n",
       "      <th>3</th>\n",
       "      <td>-38.121844</td>\n",
       "      <td>144.332476</td>\n",
       "      <td>80 Calvert Street</td>\n",
       "      <td>Hamlyn Heights</td>\n",
       "      <td>3215</td>\n",
       "      <td>NaN</td>\n",
       "      <td>3</td>\n",
       "      <td>2</td>\n",
       "      <td>1</td>\n",
       "      <td>house</td>\n",
       "      <td>$600,000</td>\n",
       "      <td>129640018</td>\n",
       "      <td>Cherished Family Home In Leafy Hamlyn Heights</td>\n",
       "      <td>2018-11-06</td>\n",
       "      <td>2018-11-06T02:00:19Z</td>\n",
       "    </tr>\n",
       "    <tr>\n",
       "      <th>4</th>\n",
       "      <td>-38.129071</td>\n",
       "      <td>144.323640</td>\n",
       "      <td>295 Church Street</td>\n",
       "      <td>Herne Hill</td>\n",
       "      <td>3218</td>\n",
       "      <td>bellarine_peninsula</td>\n",
       "      <td>3</td>\n",
       "      <td>1</td>\n",
       "      <td>2</td>\n",
       "      <td>house</td>\n",
       "      <td>$520,000</td>\n",
       "      <td>129459426</td>\n",
       "      <td>Potential Plus</td>\n",
       "      <td>2018-11-06</td>\n",
       "      <td>2018-11-06T02:00:17Z</td>\n",
       "    </tr>\n",
       "  </tbody>\n",
       "</table>\n",
       "</div>"
      ],
      "text/plain": [
       "    latitude   longitude       streetAddress          suburb  postcode  \\\n",
       "0 -38.276067  144.485488  6 Corymbia Circuit    Barwon Heads      3227   \n",
       "1 -38.238159  144.545576   9 La Bella Street     Ocean Grove      3226   \n",
       "2 -37.638387  144.922701  26 Greensted Grove   Roxburgh Park      3064   \n",
       "3 -38.121844  144.332476   80 Calvert Street  Hamlyn Heights      3215   \n",
       "4 -38.129071  144.323640   295 Church Street      Herne Hill      3218   \n",
       "\n",
       "                        region  bedrooms  bathrooms  parkingSpaces  \\\n",
       "0          bellarine_peninsula         3          2              2   \n",
       "1          bellarine_peninsula         4          2              2   \n",
       "2  melbourne___northern_region         4          2              2   \n",
       "3                          NaN         3          2              1   \n",
       "4          bellarine_peninsula         3          1              2   \n",
       "\n",
       "  propertyType       price  listingId  \\\n",
       "0        house  $1,255,000  129714950   \n",
       "1        house    $725,000  129219294   \n",
       "2        house    $670,000  129517974   \n",
       "3        house    $600,000  129640018   \n",
       "4        house    $520,000  129459426   \n",
       "\n",
       "                                            title    dateSold  \\\n",
       "0              Luxurious Coastal Lifestyle Awaits  2018-11-06   \n",
       "1  Laid Back Family Living In An Idyllic Location  2018-11-06   \n",
       "2                         Oversized & park-facing  2018-11-06   \n",
       "3  Cherished Family Home In Leafy Hamlyn Heights   2018-11-06   \n",
       "4                                  Potential Plus  2018-11-06   \n",
       "\n",
       "           modifiedDate  \n",
       "0  2018-11-06T02:00:19Z  \n",
       "1  2018-11-06T04:01:41Z  \n",
       "2  2018-11-06T02:37:57Z  \n",
       "3  2018-11-06T02:00:19Z  \n",
       "4  2018-11-06T02:00:17Z  "
      ]
     },
     "execution_count": 235,
     "metadata": {},
     "output_type": "execute_result"
    }
   ],
   "source": [
    "houseprice.head()"
   ]
  },
  {
   "cell_type": "code",
   "execution_count": 236,
   "metadata": {},
   "outputs": [],
   "source": [
    "houseprice.suburb = houseprice.suburb.apply(lambda x: ' '.join(str(x).split()).lower())\n",
    "houseprice.price = pd.to_numeric(houseprice.price.apply(lambda x: x.strip('$').replace(',','')), errors = 'coerce')\n",
    "houseprice.groupby('suburb').mean()\n",
    "housepriceavg = houseprice.groupby('suburb').mean()"
   ]
  },
  {
   "cell_type": "markdown",
   "metadata": {},
   "source": [
    "We're going to merge the data with our \"suburbs in Melbourne\" data to see if there are any noticable differences between city and country dogs.\n",
    "\n",
    "We're also going to merge with house prices to find correlations between breed and affluence"
   ]
  },
  {
   "cell_type": "code",
   "execution_count": 237,
   "metadata": {},
   "outputs": [
    {
     "data": {
      "text/html": [
       "<div>\n",
       "<style scoped>\n",
       "    .dataframe tbody tr th:only-of-type {\n",
       "        vertical-align: middle;\n",
       "    }\n",
       "\n",
       "    .dataframe tbody tr th {\n",
       "        vertical-align: top;\n",
       "    }\n",
       "\n",
       "    .dataframe thead th {\n",
       "        text-align: right;\n",
       "    }\n",
       "</style>\n",
       "<table border=\"1\" class=\"dataframe\">\n",
       "  <thead>\n",
       "    <tr style=\"text-align: right;\">\n",
       "      <th></th>\n",
       "      <th>State</th>\n",
       "      <th>Region</th>\n",
       "      <th>Reference</th>\n",
       "      <th>Animal_Type</th>\n",
       "      <th>Animal_Name</th>\n",
       "      <th>Breed_Description_primary</th>\n",
       "      <th>Breed_Description_secondary</th>\n",
       "      <th>Status_Description</th>\n",
       "      <th>Suburb</th>\n",
       "      <th>Postcode</th>\n",
       "      <th>...</th>\n",
       "      <th>longitude_x</th>\n",
       "      <th>Melbourne</th>\n",
       "      <th>latitude_y</th>\n",
       "      <th>longitude_y</th>\n",
       "      <th>postcode</th>\n",
       "      <th>bedrooms</th>\n",
       "      <th>bathrooms</th>\n",
       "      <th>parkingSpaces</th>\n",
       "      <th>price</th>\n",
       "      <th>listingId</th>\n",
       "    </tr>\n",
       "  </thead>\n",
       "  <tbody>\n",
       "    <tr>\n",
       "      <th>0</th>\n",
       "      <td>Victoria</td>\n",
       "      <td>Golden Plains</td>\n",
       "      <td>19344.0</td>\n",
       "      <td>dog</td>\n",
       "      <td>nekeyta</td>\n",
       "      <td>husky</td>\n",
       "      <td>NaN</td>\n",
       "      <td>CATEGORY 2</td>\n",
       "      <td>bannockburn</td>\n",
       "      <td>3331.0</td>\n",
       "      <td>...</td>\n",
       "      <td>144.171067</td>\n",
       "      <td>False</td>\n",
       "      <td>NaN</td>\n",
       "      <td>NaN</td>\n",
       "      <td>NaN</td>\n",
       "      <td>NaN</td>\n",
       "      <td>NaN</td>\n",
       "      <td>NaN</td>\n",
       "      <td>NaN</td>\n",
       "      <td>NaN</td>\n",
       "    </tr>\n",
       "    <tr>\n",
       "      <th>1</th>\n",
       "      <td>Victoria</td>\n",
       "      <td>Golden Plains</td>\n",
       "      <td>19350.0</td>\n",
       "      <td>dog</td>\n",
       "      <td>chief</td>\n",
       "      <td>husky</td>\n",
       "      <td>NaN</td>\n",
       "      <td>CATEGORY 2</td>\n",
       "      <td>bannockburn</td>\n",
       "      <td>3331.0</td>\n",
       "      <td>...</td>\n",
       "      <td>144.171067</td>\n",
       "      <td>False</td>\n",
       "      <td>NaN</td>\n",
       "      <td>NaN</td>\n",
       "      <td>NaN</td>\n",
       "      <td>NaN</td>\n",
       "      <td>NaN</td>\n",
       "      <td>NaN</td>\n",
       "      <td>NaN</td>\n",
       "      <td>NaN</td>\n",
       "    </tr>\n",
       "    <tr>\n",
       "      <th>2</th>\n",
       "      <td>Victoria</td>\n",
       "      <td>Golden Plains</td>\n",
       "      <td>7954.0</td>\n",
       "      <td>dog</td>\n",
       "      <td>bundi</td>\n",
       "      <td>jack russell terrier</td>\n",
       "      <td>NaN</td>\n",
       "      <td>CATEGORY 1</td>\n",
       "      <td>bannockburn</td>\n",
       "      <td>3331.0</td>\n",
       "      <td>...</td>\n",
       "      <td>144.171067</td>\n",
       "      <td>False</td>\n",
       "      <td>NaN</td>\n",
       "      <td>NaN</td>\n",
       "      <td>NaN</td>\n",
       "      <td>NaN</td>\n",
       "      <td>NaN</td>\n",
       "      <td>NaN</td>\n",
       "      <td>NaN</td>\n",
       "      <td>NaN</td>\n",
       "    </tr>\n",
       "    <tr>\n",
       "      <th>3</th>\n",
       "      <td>Victoria</td>\n",
       "      <td>Golden Plains</td>\n",
       "      <td>40335.0</td>\n",
       "      <td>dog</td>\n",
       "      <td>bossy</td>\n",
       "      <td>bull terrier</td>\n",
       "      <td>NaN</td>\n",
       "      <td>CATEGORY 1</td>\n",
       "      <td>bannockburn</td>\n",
       "      <td>3331.0</td>\n",
       "      <td>...</td>\n",
       "      <td>144.171067</td>\n",
       "      <td>False</td>\n",
       "      <td>NaN</td>\n",
       "      <td>NaN</td>\n",
       "      <td>NaN</td>\n",
       "      <td>NaN</td>\n",
       "      <td>NaN</td>\n",
       "      <td>NaN</td>\n",
       "      <td>NaN</td>\n",
       "      <td>NaN</td>\n",
       "    </tr>\n",
       "    <tr>\n",
       "      <th>4</th>\n",
       "      <td>Victoria</td>\n",
       "      <td>Golden Plains</td>\n",
       "      <td>4689.0</td>\n",
       "      <td>cat</td>\n",
       "      <td>kinky</td>\n",
       "      <td>cross breed cat</td>\n",
       "      <td>NaN</td>\n",
       "      <td>CATEGORY 2</td>\n",
       "      <td>bannockburn</td>\n",
       "      <td>3331.0</td>\n",
       "      <td>...</td>\n",
       "      <td>144.171067</td>\n",
       "      <td>False</td>\n",
       "      <td>NaN</td>\n",
       "      <td>NaN</td>\n",
       "      <td>NaN</td>\n",
       "      <td>NaN</td>\n",
       "      <td>NaN</td>\n",
       "      <td>NaN</td>\n",
       "      <td>NaN</td>\n",
       "      <td>NaN</td>\n",
       "    </tr>\n",
       "  </tbody>\n",
       "</table>\n",
       "<p>5 rows × 30 columns</p>\n",
       "</div>"
      ],
      "text/plain": [
       "      State         Region  Reference Animal_Type Animal_Name  \\\n",
       "0  Victoria  Golden Plains    19344.0         dog     nekeyta   \n",
       "1  Victoria  Golden Plains    19350.0         dog       chief   \n",
       "2  Victoria  Golden Plains     7954.0         dog       bundi   \n",
       "3  Victoria  Golden Plains    40335.0         dog       bossy   \n",
       "4  Victoria  Golden Plains     4689.0         cat       kinky   \n",
       "\n",
       "  Breed_Description_primary Breed_Description_secondary Status_Description  \\\n",
       "0                     husky                         NaN        CATEGORY 2    \n",
       "1                     husky                         NaN        CATEGORY 2    \n",
       "2      jack russell terrier                         NaN         CATEGORY 1   \n",
       "3              bull terrier                         NaN         CATEGORY 1   \n",
       "4           cross breed cat                         NaN         CATEGORY 2   \n",
       "\n",
       "        Suburb  Postcode    ...      longitude_x Melbourne latitude_y  \\\n",
       "0  bannockburn    3331.0    ...       144.171067     False        NaN   \n",
       "1  bannockburn    3331.0    ...       144.171067     False        NaN   \n",
       "2  bannockburn    3331.0    ...       144.171067     False        NaN   \n",
       "3  bannockburn    3331.0    ...       144.171067     False        NaN   \n",
       "4  bannockburn    3331.0    ...       144.171067     False        NaN   \n",
       "\n",
       "  longitude_y postcode  bedrooms  bathrooms parkingSpaces price  listingId  \n",
       "0         NaN      NaN       NaN        NaN           NaN   NaN        NaN  \n",
       "1         NaN      NaN       NaN        NaN           NaN   NaN        NaN  \n",
       "2         NaN      NaN       NaN        NaN           NaN   NaN        NaN  \n",
       "3         NaN      NaN       NaN        NaN           NaN   NaN        NaN  \n",
       "4         NaN      NaN       NaN        NaN           NaN   NaN        NaN  \n",
       "\n",
       "[5 rows x 30 columns]"
      ]
     },
     "execution_count": 237,
     "metadata": {},
     "output_type": "execute_result"
    }
   ],
   "source": [
    "df = df.merge(melbsuburbs, on ='Suburb', how = 'left')\n",
    "df['Melbourne'] = df['Melbourne'].fillna(False)\n",
    "df = df.merge(housepriceavg, left_on='Suburb', right_on='suburb', how = 'left')\n",
    "df.head()"
   ]
  },
  {
   "cell_type": "code",
   "execution_count": 238,
   "metadata": {},
   "outputs": [
    {
     "data": {
      "text/plain": [
       "(158026, 30)"
      ]
     },
     "execution_count": 238,
     "metadata": {},
     "output_type": "execute_result"
    }
   ],
   "source": [
    "newdf.shape"
   ]
  },
  {
   "cell_type": "code",
   "execution_count": 194,
   "metadata": {},
   "outputs": [],
   "source": [
    "def chrisbarplot(series, x=10):\n",
    "    names, count = np.unique(series, return_counts=True)\n",
    "    df = pd.DataFrame(\n",
    "        data = {'label': names, 'value': count},\n",
    "        ).sort_values('value', ascending = False)\n",
    "\n",
    "    df2 = df[:x].copy()\n",
    "\n",
    "    #others\n",
    "    new_row = pd.DataFrame(data = {\n",
    "        'label' : ['others'],\n",
    "        'value' : [df['value'][x:].sum()]\n",
    "    })\n",
    "\n",
    "    #combining top 5 with others\n",
    "    df2 = pd.concat([df2, new_row])\n",
    "    y_pos = np.arange(len(df.value))\n",
    "    ax = sns.barplot(x='label', y='value', data = df2)\n",
    "    for item in ax.get_xticklabels():\n",
    "        item.set_rotation(90)"
   ]
  },
  {
   "cell_type": "code",
   "execution_count": 142,
   "metadata": {},
   "outputs": [
    {
     "data": {
      "image/png": "[encoded data removed]",
      "text/plain": [
       "<Figure size 432x288 with 1 Axes>"
      ]
     },
     "metadata": {
      "needs_background": "light"
     },
     "output_type": "display_data"
    }
   ],
   "source": [
    "chrisbarplot(df.Breed_Description_primary[df.Animal_Type=='cat'])"
   ]
  },
  {
   "cell_type": "code",
   "execution_count": 143,
   "metadata": {},
   "outputs": [
    {
     "data": {
      "image/png": "[encoded data removed]",
      "text/plain": [
       "<Figure size 432x288 with 1 Axes>"
      ]
     },
     "metadata": {
      "needs_background": "light"
     },
     "output_type": "display_data"
    }
   ],
   "source": [
    "chrisbarplot(df.Breed_Description_primary[(df.Animal_Type=='dog') & (df.Melbourne == True)])"
   ]
  },
  {
   "cell_type": "code",
   "execution_count": 144,
   "metadata": {},
   "outputs": [
    {
     "data": {
      "image/png": "[encoded data removed]",
      "text/plain": [
       "<Figure size 432x288 with 1 Axes>"
      ]
     },
     "metadata": {
      "needs_background": "light"
     },
     "output_type": "display_data"
    }
   ],
   "source": [
    "chrisbarplot(df.Breed_Description_primary[(df.Animal_Type=='dog') & (df.Melbourne == False)])"
   ]
  },
  {
   "cell_type": "code",
   "execution_count": 145,
   "metadata": {},
   "outputs": [
    {
     "data": {
      "image/png": "[encoded data removed]",
      "text/plain": [
       "<Figure size 432x288 with 1 Axes>"
      ]
     },
     "metadata": {
      "needs_background": "light"
     },
     "output_type": "display_data"
    }
   ],
   "source": [
    "chrisbarplot(df.Colour_primary[(df.Animal_Type=='cat') & (df.Melbourne == True)])"
   ]
  },
  {
   "cell_type": "code",
   "execution_count": 146,
   "metadata": {},
   "outputs": [
    {
     "data": {
      "image/png": "[encoded data removed]",
      "text/plain": [
       "<Figure size 432x288 with 1 Axes>"
      ]
     },
     "metadata": {
      "needs_background": "light"
     },
     "output_type": "display_data"
    }
   ],
   "source": [
    "chrisbarplot(df.Colour_primary[(df.Animal_Type=='cat') & (df.Melbourne == False)])"
   ]
  },
  {
   "cell_type": "code",
   "execution_count": 147,
   "metadata": {},
   "outputs": [
    {
     "data": {
      "image/png": "[encoded data removed]",
      "text/plain": [
       "<Figure size 432x288 with 1 Axes>"
      ]
     },
     "metadata": {
      "needs_background": "light"
     },
     "output_type": "display_data"
    }
   ],
   "source": [
    "chrisbarplot(df.Colour_primary[df.Animal_Type=='dog'])"
   ]
  },
  {
   "cell_type": "code",
   "execution_count": 148,
   "metadata": {},
   "outputs": [
    {
     "data": {
      "image/png": "[encoded data removed]",
      "text/plain": [
       "<Figure size 432x288 with 1 Axes>"
      ]
     },
     "metadata": {
      "needs_background": "light"
     },
     "output_type": "display_data"
    }
   ],
   "source": [
    "chrisbarplot(df.Animal_Type)"
   ]
  },
  {
   "cell_type": "code",
   "execution_count": 149,
   "metadata": {},
   "outputs": [
    {
     "data": {
      "image/png": "[encoded data removed]",
      "text/plain": [
       "<Figure size 432x288 with 1 Axes>"
      ]
     },
     "metadata": {
      "needs_background": "light"
     },
     "output_type": "display_data"
    }
   ],
   "source": [
    "chrisbarplot(df.Colour_primary[(df.Animal_Type=='dog') & (df.Melbourne == True)])"
   ]
  },
  {
   "cell_type": "code",
   "execution_count": 150,
   "metadata": {},
   "outputs": [
    {
     "data": {
      "image/png": "[encoded data removed]",
      "text/plain": [
       "<Figure size 432x288 with 1 Axes>"
      ]
     },
     "metadata": {
      "needs_background": "light"
     },
     "output_type": "display_data"
    }
   ],
   "source": [
    "chrisbarplot(df.Colour_primary[(df.Animal_Type=='dog') & (df.Melbourne == False)])"
   ]
  },
  {
   "cell_type": "code",
   "execution_count": 151,
   "metadata": {},
   "outputs": [
    {
     "data": {
      "image/png": "[encoded data removed]",
      "text/plain": [
       "<Figure size 432x288 with 1 Axes>"
      ]
     },
     "metadata": {
      "needs_background": "light"
     },
     "output_type": "display_data"
    }
   ],
   "source": [
    "chrisbarplot(df.Animal_Name[(df.Animal_Type=='dog') & (df.Melbourne == True)])"
   ]
  },
  {
   "cell_type": "code",
   "execution_count": 152,
   "metadata": {},
   "outputs": [
    {
     "data": {
      "image/png": "[encoded data removed]",
      "text/plain": [
       "<Figure size 432x288 with 1 Axes>"
      ]
     },
     "metadata": {
      "needs_background": "light"
     },
     "output_type": "display_data"
    }
   ],
   "source": [
    "chrisbarplot(df.Animal_Name[(df.Animal_Type=='dog') & (df.Melbourne == False)])"
   ]
  },
  {
   "cell_type": "code",
   "execution_count": 155,
   "metadata": {},
   "outputs": [
    {
     "data": {
      "text/plain": [
       "count    88971.000000\n",
       "mean         8.199661\n",
       "std          5.149813\n",
       "min          0.000000\n",
       "25%          4.000000\n",
       "50%          8.000000\n",
       "75%         12.000000\n",
       "max         72.000000\n",
       "Name: Age, dtype: float64"
      ]
     },
     "execution_count": 155,
     "metadata": {},
     "output_type": "execute_result"
    }
   ],
   "source": [
    "df.Age.describe()"
   ]
  },
  {
   "cell_type": "code",
   "execution_count": 160,
   "metadata": {},
   "outputs": [
    {
     "data": {
      "text/plain": [
       "<matplotlib.axes._subplots.AxesSubplot at 0x2d23cbcda20>"
      ]
     },
     "execution_count": 160,
     "metadata": {},
     "output_type": "execute_result"
    },
    {
     "data": {
      "image/png": "[encoded data removed]",
      "text/plain": [
       "<Figure size 432x288 with 1 Axes>"
      ]
     },
     "metadata": {
      "needs_background": "light"
     },
     "output_type": "display_data"
    }
   ],
   "source": [
    "sns.distplot(df[df.Animal_Type=='cat'].Age.dropna())"
   ]
  },
  {
   "cell_type": "code",
   "execution_count": 161,
   "metadata": {},
   "outputs": [
    {
     "data": {
      "text/plain": [
       "<matplotlib.axes._subplots.AxesSubplot at 0x2d23ca1d8d0>"
      ]
     },
     "execution_count": 161,
     "metadata": {},
     "output_type": "execute_result"
    },
    {
     "data": {
      "image/png": "[encoded data removed]",
      "text/plain": [
       "<Figure size 432x288 with 1 Axes>"
      ]
     },
     "metadata": {
      "needs_background": "light"
     },
     "output_type": "display_data"
    }
   ],
   "source": [
    "sns.distplot(df[df.Animal_Type=='dog'].Age.dropna())"
   ]
  },
  {
   "cell_type": "code",
   "execution_count": 167,
   "metadata": {},
   "outputs": [
    {
     "data": {
      "text/plain": [
       "<matplotlib.axes._subplots.AxesSubplot at 0x2d23e8b8be0>"
      ]
     },
     "execution_count": 167,
     "metadata": {},
     "output_type": "execute_result"
    },
    {
     "data": {
      "image/png": "[encoded data removed]",
      "text/plain": [
       "<Figure size 432x288 with 1 Axes>"
      ]
     },
     "metadata": {
      "needs_background": "light"
     },
     "output_type": "display_data"
    }
   ],
   "source": [
    "sns.distplot(df[(df.Animal_Type=='dog') & (df.Melbourne == False)].Age.dropna())"
   ]
  },
  {
   "cell_type": "code",
   "execution_count": 251,
   "metadata": {},
   "outputs": [],
   "source": [
    "commonbreed = df[df.Animal_Type=='dog'].groupby(['Suburb']).agg(lambda x:x['Breed_Description_primary'].value_counts().index[0])['Breed_Description_primary']"
   ]
  },
  {
   "cell_type": "code",
   "execution_count": 253,
   "metadata": {},
   "outputs": [],
   "source": [
    "housepriceavg['common_breed']=commonbreed"
   ]
  },
  {
   "cell_type": "code",
   "execution_count": 259,
   "metadata": {},
   "outputs": [
    {
     "ename": "AttributeError",
     "evalue": "'DataFrame' object has no attribute 'sort'",
     "output_type": "error",
     "traceback": [
      "\u001b[1;31m---------------------------------------------------------------------------\u001b[0m",
      "\u001b[1;31mAttributeError\u001b[0m                            Traceback (most recent call last)",
      "\u001b[1;32m<ipython-input-259-06753ca3e2f7>\u001b[0m in \u001b[0;36m<module>\u001b[1;34m()\u001b[0m\n\u001b[1;32m----> 1\u001b[1;33m \u001b[0mhousepriceavg\u001b[0m\u001b[1;33m.\u001b[0m\u001b[0mdropna\u001b[0m\u001b[1;33m(\u001b[0m\u001b[1;33m)\u001b[0m\u001b[1;33m.\u001b[0m\u001b[0msort\u001b[0m\u001b[1;33m(\u001b[0m\u001b[0mcolumns\u001b[0m \u001b[1;33m=\u001b[0m \u001b[1;34m'price'\u001b[0m\u001b[1;33m)\u001b[0m\u001b[1;33m\u001b[0m\u001b[0m\n\u001b[0m",
      "\u001b[1;32m~\\Anaconda3\\lib\\site-packages\\pandas\\core\\generic.py\u001b[0m in \u001b[0;36m__getattr__\u001b[1;34m(self, name)\u001b[0m\n\u001b[0;32m   4374\u001b[0m             \u001b[1;32mif\u001b[0m \u001b[0mself\u001b[0m\u001b[1;33m.\u001b[0m\u001b[0m_info_axis\u001b[0m\u001b[1;33m.\u001b[0m\u001b[0m_can_hold_identifiers_and_holds_name\u001b[0m\u001b[1;33m(\u001b[0m\u001b[0mname\u001b[0m\u001b[1;33m)\u001b[0m\u001b[1;33m:\u001b[0m\u001b[1;33m\u001b[0m\u001b[0m\n\u001b[0;32m   4375\u001b[0m                 \u001b[1;32mreturn\u001b[0m \u001b[0mself\u001b[0m\u001b[1;33m[\u001b[0m\u001b[0mname\u001b[0m\u001b[1;33m]\u001b[0m\u001b[1;33m\u001b[0m\u001b[0m\n\u001b[1;32m-> 4376\u001b[1;33m             \u001b[1;32mreturn\u001b[0m \u001b[0mobject\u001b[0m\u001b[1;33m.\u001b[0m\u001b[0m__getattribute__\u001b[0m\u001b[1;33m(\u001b[0m\u001b[0mself\u001b[0m\u001b[1;33m,\u001b[0m \u001b[0mname\u001b[0m\u001b[1;33m)\u001b[0m\u001b[1;33m\u001b[0m\u001b[0m\n\u001b[0m\u001b[0;32m   4377\u001b[0m \u001b[1;33m\u001b[0m\u001b[0m\n\u001b[0;32m   4378\u001b[0m     \u001b[1;32mdef\u001b[0m \u001b[0m__setattr__\u001b[0m\u001b[1;33m(\u001b[0m\u001b[0mself\u001b[0m\u001b[1;33m,\u001b[0m \u001b[0mname\u001b[0m\u001b[1;33m,\u001b[0m \u001b[0mvalue\u001b[0m\u001b[1;33m)\u001b[0m\u001b[1;33m:\u001b[0m\u001b[1;33m\u001b[0m\u001b[0m\n",
      "\u001b[1;31mAttributeError\u001b[0m: 'DataFrame' object has no attribute 'sort'"
     ]
    }
   ],
   "source": [
    "housepriceavg.dropna().sort(columns = 'price')"
   ]
  },
  {
   "cell_type": "code",
   "execution_count": null,
   "metadata": {},
   "outputs": [],
   "source": []
  }
 ],
 "metadata": {
  "kernelspec": {
   "display_name": "Python 3",
   "language": "python",
   "name": "python3"
  },
  "language_info": {
   "codemirror_mode": {
    "name": "ipython",
    "version": 3
   },
   "file_extension": ".py",
   "mimetype": "text/x-python",
   "name": "python",
   "nbconvert_exporter": "python",
   "pygments_lexer": "ipython3",
   "version": "3.5.6"
  }
 },
 "nbformat": 4,
 "nbformat_minor": 2
}
