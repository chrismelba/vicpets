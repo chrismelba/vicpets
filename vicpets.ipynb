{
 "cells": [
  {
   "cell_type": "code",
   "execution_count": 1,
   "metadata": {},
   "outputs": [],
   "source": [
    "import pandas as pd\n",
    "import numpy as np\n",
    "import matplotlib.pyplot as plt\n",
    "import string\n",
    "import seaborn as sns\n"
   ]
  },
  {
   "cell_type": "markdown",
   "metadata": {},
   "source": [
    "We are using the vic pet registration data here:\n",
    "https://www.kaggle.com/puppygogo/sa-dog-ownership-sample/version/4?#_=_\n",
    "\n",
    "And for house price data we're going to use the data here:\n",
    "https://www.kaggle.com/ruizjme/realestate-vic-sold\n",
    "\n",
    "Finally we got a list of Melbourne suburbs to tell the difference between city and country dogs"
   ]
  },
  {
   "cell_type": "code",
   "execution_count": 2,
   "metadata": {},
   "outputs": [
    {
     "name": "stderr",
     "output_type": "stream",
     "text": [
      "C:\\Users\\chris\\Anaconda3\\lib\\site-packages\\IPython\\core\\interactiveshell.py:2785: DtypeWarning: Columns (4,6,7,11,13,14,17,18) have mixed types. Specify dtype option on import or set low_memory=False.\n",
      "  interactivity=interactivity, compiler=compiler, result=result)\n"
     ]
    }
   ],
   "source": [
    "df = pd.read_csv('Registrations_Master_Vic.csv')\n",
    "postcodes = pd.read_csv('ARPC_Postcodes.csv')\n",
    "melbsuburbs = pd.read_csv('MelbourneSuburbs.csv', header = None).T\n",
    "melbsuburbs.columns = ['Suburb']\n",
    "houseprice = pd.read_csv('vichouseprice.csv')"
   ]
  },
  {
   "cell_type": "markdown",
   "metadata": {},
   "source": [
    "# Lets have a look at our raw data\n",
    "We can see that most of the columns look pretty good. We have a significant number of missing postcodes, which means we'll use the suburb name for some analysis. Breed, colour and name all seem to have complete data. "
   ]
  },
  {
   "cell_type": "code",
   "execution_count": 3,
   "metadata": {},
   "outputs": [
    {
     "data": {
      "text/html": [
       "<div>\n",
       "<style scoped>\n",
       "    .dataframe tbody tr th:only-of-type {\n",
       "        vertical-align: middle;\n",
       "    }\n",
       "\n",
       "    .dataframe tbody tr th {\n",
       "        vertical-align: top;\n",
       "    }\n",
       "\n",
       "    .dataframe thead th {\n",
       "        text-align: right;\n",
       "    }\n",
       "</style>\n",
       "<table border=\"1\" class=\"dataframe\">\n",
       "  <thead>\n",
       "    <tr style=\"text-align: right;\">\n",
       "      <th></th>\n",
       "      <th>State</th>\n",
       "      <th>Region</th>\n",
       "      <th>Reference</th>\n",
       "      <th>Animal_Type</th>\n",
       "      <th>Animal_Name</th>\n",
       "      <th>Breed_Description_primary</th>\n",
       "      <th>Breed_Description_secondary</th>\n",
       "      <th>Status_Description</th>\n",
       "      <th>Suburb</th>\n",
       "      <th>Postcode</th>\n",
       "      <th>...</th>\n",
       "      <th>Gender</th>\n",
       "      <th>Colour_primary</th>\n",
       "      <th>Colour_secondary</th>\n",
       "      <th>Animal_Desexed</th>\n",
       "      <th>Animal Date of Birth</th>\n",
       "      <th>Age</th>\n",
       "      <th>Microchipped</th>\n",
       "      <th>Registered</th>\n",
       "      <th>latitude</th>\n",
       "      <th>longitude</th>\n",
       "    </tr>\n",
       "  </thead>\n",
       "  <tbody>\n",
       "    <tr>\n",
       "      <th>0</th>\n",
       "      <td>Victoria</td>\n",
       "      <td>Golden Plains</td>\n",
       "      <td>19344.0</td>\n",
       "      <td>DOG</td>\n",
       "      <td>NEKEYTA</td>\n",
       "      <td>HUSKY</td>\n",
       "      <td>NaN</td>\n",
       "      <td>CATEGORY 2</td>\n",
       "      <td>BANNOCKBURN</td>\n",
       "      <td>3331.0</td>\n",
       "      <td>...</td>\n",
       "      <td>F</td>\n",
       "      <td>GREY &amp; WHITE</td>\n",
       "      <td>NaN</td>\n",
       "      <td>Y</td>\n",
       "      <td>NaN</td>\n",
       "      <td>NaN</td>\n",
       "      <td>Y</td>\n",
       "      <td>NaN</td>\n",
       "      <td>-38.046528</td>\n",
       "      <td>144.171067</td>\n",
       "    </tr>\n",
       "    <tr>\n",
       "      <th>1</th>\n",
       "      <td>Victoria</td>\n",
       "      <td>Golden Plains</td>\n",
       "      <td>19350.0</td>\n",
       "      <td>DOG</td>\n",
       "      <td>CHIEF</td>\n",
       "      <td>HUSKY</td>\n",
       "      <td>NaN</td>\n",
       "      <td>CATEGORY 2</td>\n",
       "      <td>BANNOCKBURN</td>\n",
       "      <td>3331.0</td>\n",
       "      <td>...</td>\n",
       "      <td>M</td>\n",
       "      <td>BLACK/WHITE</td>\n",
       "      <td>NaN</td>\n",
       "      <td>Y</td>\n",
       "      <td>NaN</td>\n",
       "      <td>NaN</td>\n",
       "      <td>Y</td>\n",
       "      <td>NaN</td>\n",
       "      <td>-38.046528</td>\n",
       "      <td>144.171067</td>\n",
       "    </tr>\n",
       "    <tr>\n",
       "      <th>2</th>\n",
       "      <td>Victoria</td>\n",
       "      <td>Golden Plains</td>\n",
       "      <td>7954.0</td>\n",
       "      <td>DOG</td>\n",
       "      <td>BUNDI</td>\n",
       "      <td>JACK RUSSELL TERRIER</td>\n",
       "      <td>NaN</td>\n",
       "      <td>CATEGORY 1</td>\n",
       "      <td>BANNOCKBURN</td>\n",
       "      <td>3331.0</td>\n",
       "      <td>...</td>\n",
       "      <td>M</td>\n",
       "      <td>TAN/WHITE</td>\n",
       "      <td>NaN</td>\n",
       "      <td>N</td>\n",
       "      <td>NaN</td>\n",
       "      <td>NaN</td>\n",
       "      <td>N</td>\n",
       "      <td>NaN</td>\n",
       "      <td>-38.046528</td>\n",
       "      <td>144.171067</td>\n",
       "    </tr>\n",
       "    <tr>\n",
       "      <th>3</th>\n",
       "      <td>Victoria</td>\n",
       "      <td>Golden Plains</td>\n",
       "      <td>40335.0</td>\n",
       "      <td>DOG</td>\n",
       "      <td>BOSSY</td>\n",
       "      <td>BULL TERRIER</td>\n",
       "      <td>NaN</td>\n",
       "      <td>CATEGORY 1</td>\n",
       "      <td>BANNOCKBURN</td>\n",
       "      <td>3331.0</td>\n",
       "      <td>...</td>\n",
       "      <td>M</td>\n",
       "      <td>TRI</td>\n",
       "      <td>NaN</td>\n",
       "      <td>N</td>\n",
       "      <td>NaN</td>\n",
       "      <td>NaN</td>\n",
       "      <td>N</td>\n",
       "      <td>NaN</td>\n",
       "      <td>-38.046528</td>\n",
       "      <td>144.171067</td>\n",
       "    </tr>\n",
       "    <tr>\n",
       "      <th>4</th>\n",
       "      <td>Victoria</td>\n",
       "      <td>Golden Plains</td>\n",
       "      <td>4689.0</td>\n",
       "      <td>CAT</td>\n",
       "      <td>KINKY</td>\n",
       "      <td>CROSS BREED CAT</td>\n",
       "      <td>NaN</td>\n",
       "      <td>CATEGORY 2</td>\n",
       "      <td>BANNOCKBURN</td>\n",
       "      <td>3331.0</td>\n",
       "      <td>...</td>\n",
       "      <td>M</td>\n",
       "      <td>WHITE</td>\n",
       "      <td>NaN</td>\n",
       "      <td>Y</td>\n",
       "      <td>NaN</td>\n",
       "      <td>NaN</td>\n",
       "      <td>Y</td>\n",
       "      <td>NaN</td>\n",
       "      <td>-38.046528</td>\n",
       "      <td>144.171067</td>\n",
       "    </tr>\n",
       "  </tbody>\n",
       "</table>\n",
       "<p>5 rows × 21 columns</p>\n",
       "</div>"
      ],
      "text/plain": [
       "      State         Region  Reference Animal_Type Animal_Name  \\\n",
       "0  Victoria  Golden Plains    19344.0        DOG     NEKEYTA    \n",
       "1  Victoria  Golden Plains    19350.0        DOG       CHIEF    \n",
       "2  Victoria  Golden Plains     7954.0        DOG       BUNDI    \n",
       "3  Victoria  Golden Plains    40335.0        DOG       BOSSY    \n",
       "4  Victoria  Golden Plains     4689.0        CAT       KINKY    \n",
       "\n",
       "  Breed_Description_primary Breed_Description_secondary Status_Description  \\\n",
       "0                    HUSKY                          NaN        CATEGORY 2    \n",
       "1                    HUSKY                          NaN        CATEGORY 2    \n",
       "2     JACK RUSSELL TERRIER                          NaN         CATEGORY 1   \n",
       "3             BULL TERRIER                          NaN         CATEGORY 1   \n",
       "4          CROSS BREED CAT                          NaN         CATEGORY 2   \n",
       "\n",
       "        Suburb  Postcode     ...      Gender Colour_primary Colour_secondary  \\\n",
       "0  BANNOCKBURN    3331.0     ...           F  GREY & WHITE               NaN   \n",
       "1  BANNOCKBURN    3331.0     ...           M   BLACK/WHITE               NaN   \n",
       "2  BANNOCKBURN    3331.0     ...           M     TAN/WHITE               NaN   \n",
       "3  BANNOCKBURN    3331.0     ...           M           TRI               NaN   \n",
       "4  BANNOCKBURN    3331.0     ...           M         WHITE               NaN   \n",
       "\n",
       "  Animal_Desexed Animal Date of Birth  Age  Microchipped Registered  \\\n",
       "0              Y                  NaN  NaN             Y        NaN   \n",
       "1              Y                  NaN  NaN             Y        NaN   \n",
       "2              N                  NaN  NaN             N        NaN   \n",
       "3              N                  NaN  NaN             N        NaN   \n",
       "4              Y                  NaN  NaN             Y        NaN   \n",
       "\n",
       "    latitude   longitude  \n",
       "0 -38.046528  144.171067  \n",
       "1 -38.046528  144.171067  \n",
       "2 -38.046528  144.171067  \n",
       "3 -38.046528  144.171067  \n",
       "4 -38.046528  144.171067  \n",
       "\n",
       "[5 rows x 21 columns]"
      ]
     },
     "execution_count": 3,
     "metadata": {},
     "output_type": "execute_result"
    }
   ],
   "source": [
    "df.head()"
   ]
  },
  {
   "cell_type": "code",
   "execution_count": 4,
   "metadata": {},
   "outputs": [
    {
     "name": "stdout",
     "output_type": "stream",
     "text": [
      "<class 'pandas.core.frame.DataFrame'>\n",
      "RangeIndex: 158026 entries, 0 to 158025\n",
      "Data columns (total 21 columns):\n",
      "State                          158026 non-null object\n",
      "Region                         158026 non-null object\n",
      "Reference                      13646 non-null float64\n",
      "Animal_Type                    158026 non-null object\n",
      "Animal_Name                    111706 non-null object\n",
      "Breed_Description_primary      154833 non-null object\n",
      "Breed_Description_secondary    209 non-null object\n",
      "Status_Description             10509 non-null object\n",
      "Suburb                         157953 non-null object\n",
      "Postcode                       62137 non-null float64\n",
      "Year                           0 non-null float64\n",
      "Gender                         19180 non-null object\n",
      "Colour_primary                 153806 non-null object\n",
      "Colour_secondary               2459 non-null object\n",
      "Animal_Desexed                 25790 non-null object\n",
      "Animal Date of Birth           4095 non-null float64\n",
      "Age                            88971 non-null float64\n",
      "Microchipped                   13646 non-null object\n",
      "Registered                     102143 non-null object\n",
      "latitude                       105039 non-null float64\n",
      "longitude                      105039 non-null float64\n",
      "dtypes: float64(7), object(14)\n",
      "memory usage: 25.3+ MB\n"
     ]
    }
   ],
   "source": [
    "df.info()"
   ]
  },
  {
   "cell_type": "code",
   "execution_count": null,
   "metadata": {},
   "outputs": [],
   "source": [
    "\n"
   ]
  },
  {
   "cell_type": "code",
   "execution_count": 5,
   "metadata": {},
   "outputs": [
    {
     "data": {
      "text/plain": [
       "array(['DOG ', 'CAT ', 'Cat                                     ',\n",
       "       'Dog                                     ', 'Dog', 'Cat', 'dog',\n",
       "       'cat', 'Dog       ', 'Cat       '], dtype=object)"
      ]
     },
     "execution_count": 5,
     "metadata": {},
     "output_type": "execute_result"
    }
   ],
   "source": [
    "df.Animal_Type.unique()"
   ]
  },
  {
   "cell_type": "markdown",
   "metadata": {},
   "source": [
    "### Clearly we need to do some clean-up on the data\n",
    "We're going to split and rejoin the data to remove all the random extra spaces we can see (particularly in animal type). We're also going to try to have a consistant naming convention for cross-breeds, and remove terrier from breed descriptions so that we can accurately group \"Jack Russell\" and \"Jack Russell Terrier\" as the same type of dog. "
   ]
  },
  {
   "cell_type": "code",
   "execution_count": 6,
   "metadata": {},
   "outputs": [],
   "source": [
    "df.Animal_Type = df.Animal_Type.apply(lambda x: ''.join(str(x).split()).lower())\n",
    "df.Suburb = df.Suburb.apply(lambda x: ' '.join(str(x).split()).lower())\n",
    "df.Breed_Description_primary = df.Breed_Description_primary.apply(lambda x: ' '.join(str(x).split()).lower())\n",
    "df.Breed_Description_primary = df.Breed_Description_primary.apply(lambda x: x.replace('(cross)', 'x'))\n",
    "df.Breed_Description_primary = df.Breed_Description_primary.apply(lambda x: x.replace('cross', 'x'))\n",
    "df.Animal_Name = df.Animal_Name.apply(lambda x: ' '.join(str(x).split()).lower())\n",
    "df.Breed_Description_primary = df.Breed_Description_primary.apply(lambda x: x.replace('terrier', ''))\n",
    "df.Breed_Description_primary = df.Breed_Description_primary.apply(lambda x: ' '.join(str(x).split()).lower())\n",
    "\n",
    "df.Colour_primary = df.Colour_primary.apply(lambda x: ' '.join(str(x).split()).lower())\n",
    "df['pure_breed'] = (df.Breed_Description_primary.apply(lambda x: 'x' not in x)) & (df.Breed_Description_secondary.isna())\n",
    "\n",
    "melbsuburbs.Suburb = melbsuburbs.Suburb.apply(lambda x: ' '.join(str(x).split()).lower())\n",
    "melbsuburbs['Melbourne'] = True\n"
   ]
  },
  {
   "cell_type": "markdown",
   "metadata": {},
   "source": [
    "### House price data\n",
    "We're going to use the house price data to get an average price per suburb. We'll apply similar cleaning techniques, then some grouping to get this data"
   ]
  },
  {
   "cell_type": "code",
   "execution_count": 7,
   "metadata": {},
   "outputs": [],
   "source": [
    "houseprice.suburb = houseprice.suburb.apply(lambda x: ' '.join(str(x).split()).lower())\n",
    "houseprice.price = pd.to_numeric(houseprice.price.apply(lambda x: x.strip('$').replace(',','')), errors = 'coerce')\n",
    "houseprice.groupby('suburb').mean()\n",
    "housepriceavg = houseprice.groupby('suburb').median()"
   ]
  },
  {
   "cell_type": "markdown",
   "metadata": {},
   "source": [
    "We're going to merge the data with our \"suburbs in Melbourne\" data to see if there are any noticable differences between city and country dogs.\n",
    "\n",
    "We're also going to merge with house prices to find correlations between breed and affluence"
   ]
  },
  {
   "cell_type": "code",
   "execution_count": 8,
   "metadata": {},
   "outputs": [],
   "source": [
    "df = df.merge(melbsuburbs, on ='Suburb', how = 'left')\n",
    "df['Melbourne'] = df['Melbourne'].fillna(False)\n",
    "df = df.merge(housepriceavg, left_on='Suburb', right_on='suburb', how = 'left')\n"
   ]
  },
  {
   "cell_type": "markdown",
   "metadata": {},
   "source": [
    "# Cleaned Dataset\n",
    "Let's have a look at our fancy new clean data-set"
   ]
  },
  {
   "cell_type": "code",
   "execution_count": 9,
   "metadata": {},
   "outputs": [
    {
     "data": {
      "text/html": [
       "<div>\n",
       "<style scoped>\n",
       "    .dataframe tbody tr th:only-of-type {\n",
       "        vertical-align: middle;\n",
       "    }\n",
       "\n",
       "    .dataframe tbody tr th {\n",
       "        vertical-align: top;\n",
       "    }\n",
       "\n",
       "    .dataframe thead th {\n",
       "        text-align: right;\n",
       "    }\n",
       "</style>\n",
       "<table border=\"1\" class=\"dataframe\">\n",
       "  <thead>\n",
       "    <tr style=\"text-align: right;\">\n",
       "      <th></th>\n",
       "      <th>State</th>\n",
       "      <th>Region</th>\n",
       "      <th>Reference</th>\n",
       "      <th>Animal_Type</th>\n",
       "      <th>Animal_Name</th>\n",
       "      <th>Breed_Description_primary</th>\n",
       "      <th>Breed_Description_secondary</th>\n",
       "      <th>Status_Description</th>\n",
       "      <th>Suburb</th>\n",
       "      <th>Postcode</th>\n",
       "      <th>...</th>\n",
       "      <th>pure_breed</th>\n",
       "      <th>Melbourne</th>\n",
       "      <th>latitude_y</th>\n",
       "      <th>longitude_y</th>\n",
       "      <th>postcode</th>\n",
       "      <th>bedrooms</th>\n",
       "      <th>bathrooms</th>\n",
       "      <th>parkingSpaces</th>\n",
       "      <th>price</th>\n",
       "      <th>listingId</th>\n",
       "    </tr>\n",
       "  </thead>\n",
       "  <tbody>\n",
       "    <tr>\n",
       "      <th>0</th>\n",
       "      <td>Victoria</td>\n",
       "      <td>Golden Plains</td>\n",
       "      <td>19344.0</td>\n",
       "      <td>dog</td>\n",
       "      <td>nekeyta</td>\n",
       "      <td>husky</td>\n",
       "      <td>NaN</td>\n",
       "      <td>CATEGORY 2</td>\n",
       "      <td>bannockburn</td>\n",
       "      <td>3331.0</td>\n",
       "      <td>...</td>\n",
       "      <td>True</td>\n",
       "      <td>False</td>\n",
       "      <td>NaN</td>\n",
       "      <td>NaN</td>\n",
       "      <td>NaN</td>\n",
       "      <td>NaN</td>\n",
       "      <td>NaN</td>\n",
       "      <td>NaN</td>\n",
       "      <td>NaN</td>\n",
       "      <td>NaN</td>\n",
       "    </tr>\n",
       "    <tr>\n",
       "      <th>1</th>\n",
       "      <td>Victoria</td>\n",
       "      <td>Golden Plains</td>\n",
       "      <td>19350.0</td>\n",
       "      <td>dog</td>\n",
       "      <td>chief</td>\n",
       "      <td>husky</td>\n",
       "      <td>NaN</td>\n",
       "      <td>CATEGORY 2</td>\n",
       "      <td>bannockburn</td>\n",
       "      <td>3331.0</td>\n",
       "      <td>...</td>\n",
       "      <td>True</td>\n",
       "      <td>False</td>\n",
       "      <td>NaN</td>\n",
       "      <td>NaN</td>\n",
       "      <td>NaN</td>\n",
       "      <td>NaN</td>\n",
       "      <td>NaN</td>\n",
       "      <td>NaN</td>\n",
       "      <td>NaN</td>\n",
       "      <td>NaN</td>\n",
       "    </tr>\n",
       "    <tr>\n",
       "      <th>2</th>\n",
       "      <td>Victoria</td>\n",
       "      <td>Golden Plains</td>\n",
       "      <td>7954.0</td>\n",
       "      <td>dog</td>\n",
       "      <td>bundi</td>\n",
       "      <td>jack russell</td>\n",
       "      <td>NaN</td>\n",
       "      <td>CATEGORY 1</td>\n",
       "      <td>bannockburn</td>\n",
       "      <td>3331.0</td>\n",
       "      <td>...</td>\n",
       "      <td>True</td>\n",
       "      <td>False</td>\n",
       "      <td>NaN</td>\n",
       "      <td>NaN</td>\n",
       "      <td>NaN</td>\n",
       "      <td>NaN</td>\n",
       "      <td>NaN</td>\n",
       "      <td>NaN</td>\n",
       "      <td>NaN</td>\n",
       "      <td>NaN</td>\n",
       "    </tr>\n",
       "    <tr>\n",
       "      <th>3</th>\n",
       "      <td>Victoria</td>\n",
       "      <td>Golden Plains</td>\n",
       "      <td>40335.0</td>\n",
       "      <td>dog</td>\n",
       "      <td>bossy</td>\n",
       "      <td>bull</td>\n",
       "      <td>NaN</td>\n",
       "      <td>CATEGORY 1</td>\n",
       "      <td>bannockburn</td>\n",
       "      <td>3331.0</td>\n",
       "      <td>...</td>\n",
       "      <td>True</td>\n",
       "      <td>False</td>\n",
       "      <td>NaN</td>\n",
       "      <td>NaN</td>\n",
       "      <td>NaN</td>\n",
       "      <td>NaN</td>\n",
       "      <td>NaN</td>\n",
       "      <td>NaN</td>\n",
       "      <td>NaN</td>\n",
       "      <td>NaN</td>\n",
       "    </tr>\n",
       "    <tr>\n",
       "      <th>4</th>\n",
       "      <td>Victoria</td>\n",
       "      <td>Golden Plains</td>\n",
       "      <td>4689.0</td>\n",
       "      <td>cat</td>\n",
       "      <td>kinky</td>\n",
       "      <td>x breed cat</td>\n",
       "      <td>NaN</td>\n",
       "      <td>CATEGORY 2</td>\n",
       "      <td>bannockburn</td>\n",
       "      <td>3331.0</td>\n",
       "      <td>...</td>\n",
       "      <td>False</td>\n",
       "      <td>False</td>\n",
       "      <td>NaN</td>\n",
       "      <td>NaN</td>\n",
       "      <td>NaN</td>\n",
       "      <td>NaN</td>\n",
       "      <td>NaN</td>\n",
       "      <td>NaN</td>\n",
       "      <td>NaN</td>\n",
       "      <td>NaN</td>\n",
       "    </tr>\n",
       "  </tbody>\n",
       "</table>\n",
       "<p>5 rows × 31 columns</p>\n",
       "</div>"
      ],
      "text/plain": [
       "      State         Region  Reference Animal_Type Animal_Name  \\\n",
       "0  Victoria  Golden Plains    19344.0         dog     nekeyta   \n",
       "1  Victoria  Golden Plains    19350.0         dog       chief   \n",
       "2  Victoria  Golden Plains     7954.0         dog       bundi   \n",
       "3  Victoria  Golden Plains    40335.0         dog       bossy   \n",
       "4  Victoria  Golden Plains     4689.0         cat       kinky   \n",
       "\n",
       "  Breed_Description_primary Breed_Description_secondary Status_Description  \\\n",
       "0                     husky                         NaN        CATEGORY 2    \n",
       "1                     husky                         NaN        CATEGORY 2    \n",
       "2              jack russell                         NaN         CATEGORY 1   \n",
       "3                      bull                         NaN         CATEGORY 1   \n",
       "4               x breed cat                         NaN         CATEGORY 2   \n",
       "\n",
       "        Suburb  Postcode    ...      pure_breed Melbourne latitude_y  \\\n",
       "0  bannockburn    3331.0    ...            True     False        NaN   \n",
       "1  bannockburn    3331.0    ...            True     False        NaN   \n",
       "2  bannockburn    3331.0    ...            True     False        NaN   \n",
       "3  bannockburn    3331.0    ...            True     False        NaN   \n",
       "4  bannockburn    3331.0    ...           False     False        NaN   \n",
       "\n",
       "  longitude_y postcode  bedrooms  bathrooms parkingSpaces price  listingId  \n",
       "0         NaN      NaN       NaN        NaN           NaN   NaN        NaN  \n",
       "1         NaN      NaN       NaN        NaN           NaN   NaN        NaN  \n",
       "2         NaN      NaN       NaN        NaN           NaN   NaN        NaN  \n",
       "3         NaN      NaN       NaN        NaN           NaN   NaN        NaN  \n",
       "4         NaN      NaN       NaN        NaN           NaN   NaN        NaN  \n",
       "\n",
       "[5 rows x 31 columns]"
      ]
     },
     "execution_count": 9,
     "metadata": {},
     "output_type": "execute_result"
    }
   ],
   "source": [
    "df.head()"
   ]
  },
  {
   "cell_type": "code",
   "execution_count": 10,
   "metadata": {},
   "outputs": [],
   "source": [
    "def chrisbarplot(series, x=10):\n",
    "    names, count = np.unique(series, return_counts=True)\n",
    "    df = pd.DataFrame(\n",
    "        data = {'label': names, 'value': count},\n",
    "        ).sort_values('value', ascending = False)\n",
    "\n",
    "    df2 = df[:x].copy()\n",
    "\n",
    "    #others\n",
    "    new_row = pd.DataFrame(data = {\n",
    "        'label' : ['others'],\n",
    "        'value' : [df['value'][x:].sum()]\n",
    "    })\n",
    "\n",
    "    #combining top 5 with others\n",
    "    df2 = pd.concat([df2, new_row])\n",
    "    y_pos = np.arange(len(df.value))\n",
    "    ax = sns.barplot(x='label', y='value', data = df2)\n",
    "    for item in ax.get_xticklabels():\n",
    "        item.set_rotation(90)\n",
    "    ax.set(xlabel='', ylabel='Number')"
   ]
  },
  {
   "cell_type": "code",
   "execution_count": 11,
   "metadata": {},
   "outputs": [
    {
     "data": {
      "image/png": "[encoded data removed]",
      "text/plain": [
       "<Figure size 432x288 with 1 Axes>"
      ]
     },
     "metadata": {
      "needs_background": "light"
     },
     "output_type": "display_data"
    }
   ],
   "source": [
    "chrisbarplot(df.Breed_Description_primary[df.Animal_Type=='cat'])"
   ]
  },
  {
   "cell_type": "code",
   "execution_count": 12,
   "metadata": {},
   "outputs": [
    {
     "data": {
      "image/png": "[encoded data removed]",
      "text/plain": [
       "<Figure size 432x288 with 1 Axes>"
      ]
     },
     "metadata": {
      "needs_background": "light"
     },
     "output_type": "display_data"
    }
   ],
   "source": [
    "chrisbarplot(df.Breed_Description_primary[(df.Animal_Type=='dog')])"
   ]
  },
  {
   "cell_type": "code",
   "execution_count": 13,
   "metadata": {},
   "outputs": [
    {
     "data": {
      "text/plain": [
       "[Text(0,0.5,'Difference between Melbourne and Regional \\n(lower indicates more likely to be found in regional VIC)'),\n",
       " Text(0.5,0,'Breed')]"
      ]
     },
     "execution_count": 13,
     "metadata": {},
     "output_type": "execute_result"
    },
    {
     "data": {
      "image/png": "[encoded data removed]",
      "text/plain": [
       "<Figure size 432x288 with 1 Axes>"
      ]
     },
     "metadata": {
      "needs_background": "light"
     },
     "output_type": "display_data"
    }
   ],
   "source": [
    "\n",
    "def ratiocalc(series):\n",
    "    names, count = np.unique(series, return_counts=True)\n",
    "    ratio = pd.DataFrame(\n",
    "            data = {'label': names, 'value': count},\n",
    "            )\n",
    "    ratio.value = ratio.value/(series.shape)\n",
    "    return ratio\n",
    "\n",
    "melbbreeds = ratiocalc(df[(df.Animal_Type=='dog') & (df.Melbourne == True)]['Breed_Description_primary'])\n",
    "ruralbreeds = ratiocalc(df[(df.Animal_Type=='dog') & (df.Melbourne == False)]['Breed_Description_primary'])\n",
    "ruralbreeds\n",
    "\n",
    "breedcompare = melbbreeds.merge(ruralbreeds, on = 'label')\n",
    "breedcompare['diff'] = breedcompare.value_x - breedcompare.value_y\n",
    "breedcompare = breedcompare.sort_values('diff')\n",
    "\n",
    "breed_top_bottom = pd.concat([breedcompare[0:5], breedcompare[-5:]])\n",
    "breed_top_bottom\n",
    "#breedcompare\n",
    "ax = sns.barplot(x='label', y='diff', palette=\"vlag\", data = breed_top_bottom)\n",
    "for item in ax.get_xticklabels():\n",
    "    item.set_rotation(90)\n",
    "ax.set(xlabel = \"Breed\", ylabel = \"Difference between Melbourne and Regional \\n(lower indicates more likely to be found in regional VIC)\")"
   ]
  },
  {
   "cell_type": "code",
   "execution_count": 14,
   "metadata": {
    "scrolled": true
   },
   "outputs": [
    {
     "data": {
      "image/png": "[encoded data removed]",
      "text/plain": [
       "<Figure size 432x288 with 1 Axes>"
      ]
     },
     "metadata": {
      "needs_background": "light"
     },
     "output_type": "display_data"
    }
   ],
   "source": [
    "chrisbarplot(df.Colour_primary[(df.Animal_Type=='cat') & (df.Melbourne == False)])"
   ]
  },
  {
   "cell_type": "code",
   "execution_count": 15,
   "metadata": {},
   "outputs": [
    {
     "data": {
      "image/png": "[encoded data removed]",
      "text/plain": [
       "<Figure size 432x288 with 1 Axes>"
      ]
     },
     "metadata": {
      "needs_background": "light"
     },
     "output_type": "display_data"
    }
   ],
   "source": [
    "chrisbarplot(df.Colour_primary[df.Animal_Type=='dog'])"
   ]
  },
  {
   "cell_type": "code",
   "execution_count": 16,
   "metadata": {
    "scrolled": true
   },
   "outputs": [
    {
     "data": {
      "image/png": "[encoded data removed]",
      "text/plain": [
       "<Figure size 432x288 with 1 Axes>"
      ]
     },
     "metadata": {
      "needs_background": "light"
     },
     "output_type": "display_data"
    }
   ],
   "source": [
    "chrisbarplot(df.Animal_Type)"
   ]
  },
  {
   "cell_type": "code",
   "execution_count": 17,
   "metadata": {},
   "outputs": [
    {
     "data": {
      "image/png": "[encoded data removed]",
      "text/plain": [
       "<Figure size 432x288 with 1 Axes>"
      ]
     },
     "metadata": {
      "needs_background": "light"
     },
     "output_type": "display_data"
    }
   ],
   "source": [
    "chrisbarplot(df.Colour_primary[(df.Animal_Type=='dog') & (df.Melbourne == True)])"
   ]
  },
  {
   "cell_type": "code",
   "execution_count": 18,
   "metadata": {},
   "outputs": [
    {
     "data": {
      "text/plain": [
       "count    22805.000000\n",
       "mean         8.432098\n",
       "std          5.637348\n",
       "min          0.000000\n",
       "25%          4.000000\n",
       "50%          8.000000\n",
       "75%         12.000000\n",
       "max         71.000000\n",
       "Name: Age, dtype: float64"
      ]
     },
     "execution_count": 18,
     "metadata": {},
     "output_type": "execute_result"
    }
   ],
   "source": [
    "df[df.Animal_Type=='cat'].Age.describe()"
   ]
  },
  {
   "cell_type": "code",
   "execution_count": 19,
   "metadata": {},
   "outputs": [
    {
     "data": {
      "text/plain": [
       "<matplotlib.axes._subplots.AxesSubplot at 0x290ad54e860>"
      ]
     },
     "execution_count": 19,
     "metadata": {},
     "output_type": "execute_result"
    },
    {
     "data": {
      "image/png": "[encoded data removed]",
      "text/plain": [
       "<Figure size 432x288 with 1 Axes>"
      ]
     },
     "metadata": {
      "needs_background": "light"
     },
     "output_type": "display_data"
    }
   ],
   "source": [
    "sns.distplot(df[df.Animal_Type=='cat'].Age.dropna())"
   ]
  },
  {
   "cell_type": "code",
   "execution_count": 20,
   "metadata": {},
   "outputs": [
    {
     "data": {
      "text/plain": [
       "<matplotlib.axes._subplots.AxesSubplot at 0x290ad95cd68>"
      ]
     },
     "execution_count": 20,
     "metadata": {},
     "output_type": "execute_result"
    },
    {
     "data": {
      "image/png": "[encoded data removed]",
      "text/plain": [
       "<Figure size 432x288 with 1 Axes>"
      ]
     },
     "metadata": {
      "needs_background": "light"
     },
     "output_type": "display_data"
    }
   ],
   "source": [
    "sns.distplot(df[df.Animal_Type=='dog'].Age.dropna())"
   ]
  },
  {
   "cell_type": "markdown",
   "metadata": {},
   "source": [
    "# Calculating the most common breeds in a suburb\n",
    "We want to do a bit of aggregation to discover the most common breed in each suburb We're going to add this data to our house price data to draw some trends"
   ]
  },
  {
   "cell_type": "code",
   "execution_count": 21,
   "metadata": {},
   "outputs": [
    {
     "data": {
      "text/plain": [
       "Suburb\n",
       "addington         25\n",
       "aireys inlet     180\n",
       "alfredton       2218\n",
       "alvie             37\n",
       "anakie           139\n",
       "Name: State, dtype: int64"
      ]
     },
     "execution_count": 21,
     "metadata": {},
     "output_type": "execute_result"
    }
   ],
   "source": [
    "commonbreed = df[df.Animal_Type=='dog'].groupby(['Suburb']).agg(lambda x:x['Breed_Description_primary'].value_counts().index[0])['Breed_Description_primary']\n",
    "pure_breed_percent = df[df.Animal_Type=='dog'].groupby(['Suburb']).mean()['pure_breed']\n",
    "dog_count = df[df.Animal_Type=='dog'].groupby(['Suburb']).count()['State']\n",
    "dog_count.head()"
   ]
  },
  {
   "cell_type": "code",
   "execution_count": 22,
   "metadata": {},
   "outputs": [],
   "source": [
    "housepriceavg['common_breed']=commonbreed\n",
    "housepriceavg['pure_breed'] = pure_breed_percent\n",
    "housepriceavg['dog_count'] = dog_count"
   ]
  },
  {
   "cell_type": "code",
   "execution_count": 23,
   "metadata": {},
   "outputs": [],
   "source": [
    "housepriceavg = housepriceavg.dropna().sort_values(by = 'price', ascending = False)"
   ]
  },
  {
   "cell_type": "markdown",
   "metadata": {},
   "source": [
    "# Let's look at our new house price data with additional columns"
   ]
  },
  {
   "cell_type": "code",
   "execution_count": 24,
   "metadata": {},
   "outputs": [
    {
     "data": {
      "text/html": [
       "<div>\n",
       "<style scoped>\n",
       "    .dataframe tbody tr th:only-of-type {\n",
       "        vertical-align: middle;\n",
       "    }\n",
       "\n",
       "    .dataframe tbody tr th {\n",
       "        vertical-align: top;\n",
       "    }\n",
       "\n",
       "    .dataframe thead th {\n",
       "        text-align: right;\n",
       "    }\n",
       "</style>\n",
       "<table border=\"1\" class=\"dataframe\">\n",
       "  <thead>\n",
       "    <tr style=\"text-align: right;\">\n",
       "      <th></th>\n",
       "      <th>latitude</th>\n",
       "      <th>longitude</th>\n",
       "      <th>postcode</th>\n",
       "      <th>bedrooms</th>\n",
       "      <th>bathrooms</th>\n",
       "      <th>parkingSpaces</th>\n",
       "      <th>price</th>\n",
       "      <th>listingId</th>\n",
       "      <th>common_breed</th>\n",
       "      <th>pure_breed</th>\n",
       "      <th>dog_count</th>\n",
       "    </tr>\n",
       "    <tr>\n",
       "      <th>suburb</th>\n",
       "      <th></th>\n",
       "      <th></th>\n",
       "      <th></th>\n",
       "      <th></th>\n",
       "      <th></th>\n",
       "      <th></th>\n",
       "      <th></th>\n",
       "      <th></th>\n",
       "      <th></th>\n",
       "      <th></th>\n",
       "      <th></th>\n",
       "    </tr>\n",
       "  </thead>\n",
       "  <tbody>\n",
       "    <tr>\n",
       "      <th>barwon downs</th>\n",
       "      <td>-38.468454</td>\n",
       "      <td>143.778366</td>\n",
       "      <td>3243.0</td>\n",
       "      <td>3.0</td>\n",
       "      <td>1.0</td>\n",
       "      <td>2.0</td>\n",
       "      <td>1500000.0</td>\n",
       "      <td>7989582.0</td>\n",
       "      <td>kelpie</td>\n",
       "      <td>0.787879</td>\n",
       "      <td>33.0</td>\n",
       "    </tr>\n",
       "    <tr>\n",
       "      <th>barwon heads</th>\n",
       "      <td>-38.275751</td>\n",
       "      <td>144.488979</td>\n",
       "      <td>3227.0</td>\n",
       "      <td>3.0</td>\n",
       "      <td>2.0</td>\n",
       "      <td>2.0</td>\n",
       "      <td>1127500.0</td>\n",
       "      <td>129393508.0</td>\n",
       "      <td>labrador</td>\n",
       "      <td>0.825000</td>\n",
       "      <td>680.0</td>\n",
       "    </tr>\n",
       "    <tr>\n",
       "      <th>bonshaw</th>\n",
       "      <td>-37.599983</td>\n",
       "      <td>143.807690</td>\n",
       "      <td>3352.0</td>\n",
       "      <td>4.0</td>\n",
       "      <td>3.0</td>\n",
       "      <td>12.0</td>\n",
       "      <td>1010000.0</td>\n",
       "      <td>128849946.0</td>\n",
       "      <td>jack russell</td>\n",
       "      <td>0.563380</td>\n",
       "      <td>71.0</td>\n",
       "    </tr>\n",
       "    <tr>\n",
       "      <th>moolap</th>\n",
       "      <td>-38.177077</td>\n",
       "      <td>144.430089</td>\n",
       "      <td>3224.0</td>\n",
       "      <td>4.0</td>\n",
       "      <td>2.0</td>\n",
       "      <td>6.0</td>\n",
       "      <td>960000.0</td>\n",
       "      <td>129422274.0</td>\n",
       "      <td>labrador</td>\n",
       "      <td>0.778878</td>\n",
       "      <td>303.0</td>\n",
       "    </tr>\n",
       "    <tr>\n",
       "      <th>anakie</th>\n",
       "      <td>-37.986431</td>\n",
       "      <td>144.248332</td>\n",
       "      <td>3213.0</td>\n",
       "      <td>4.0</td>\n",
       "      <td>2.0</td>\n",
       "      <td>4.0</td>\n",
       "      <td>955000.0</td>\n",
       "      <td>129463322.0</td>\n",
       "      <td>kelpie</td>\n",
       "      <td>0.748201</td>\n",
       "      <td>139.0</td>\n",
       "    </tr>\n",
       "  </tbody>\n",
       "</table>\n",
       "</div>"
      ],
      "text/plain": [
       "               latitude   longitude  postcode  bedrooms  bathrooms  \\\n",
       "suburb                                                               \n",
       "barwon downs -38.468454  143.778366    3243.0       3.0        1.0   \n",
       "barwon heads -38.275751  144.488979    3227.0       3.0        2.0   \n",
       "bonshaw      -37.599983  143.807690    3352.0       4.0        3.0   \n",
       "moolap       -38.177077  144.430089    3224.0       4.0        2.0   \n",
       "anakie       -37.986431  144.248332    3213.0       4.0        2.0   \n",
       "\n",
       "              parkingSpaces      price    listingId  common_breed  pure_breed  \\\n",
       "suburb                                                                          \n",
       "barwon downs            2.0  1500000.0    7989582.0        kelpie    0.787879   \n",
       "barwon heads            2.0  1127500.0  129393508.0      labrador    0.825000   \n",
       "bonshaw                12.0  1010000.0  128849946.0  jack russell    0.563380   \n",
       "moolap                  6.0   960000.0  129422274.0      labrador    0.778878   \n",
       "anakie                  4.0   955000.0  129463322.0        kelpie    0.748201   \n",
       "\n",
       "              dog_count  \n",
       "suburb                   \n",
       "barwon downs       33.0  \n",
       "barwon heads      680.0  \n",
       "bonshaw            71.0  \n",
       "moolap            303.0  \n",
       "anakie            139.0  "
      ]
     },
     "execution_count": 24,
     "metadata": {},
     "output_type": "execute_result"
    }
   ],
   "source": [
    "housepriceavg.head()"
   ]
  },
  {
   "cell_type": "code",
   "execution_count": 25,
   "metadata": {},
   "outputs": [
    {
     "data": {
      "image/png": "[encoded data removed]",
      "text/plain": [
       "<Figure size 432x288 with 1 Axes>"
      ]
     },
     "metadata": {
      "needs_background": "light"
     },
     "output_type": "display_data"
    }
   ],
   "source": [
    "ax = sns.scatterplot(x = 'price', y = 'pure_breed', size='dog_count', data = housepriceavg)\n",
    "ax.get_xaxis().set_major_formatter(plt.FuncFormatter(lambda x, loc: \"${:,}\".format(int(x))))\n",
    "ax.set(xlabel='Average house price in suburb', ylabel='Percentage Pure Breed in Suburb')\n",
    "ax.get_yaxis().set_major_formatter(plt.FuncFormatter(lambda x, loc: \"{0:.0f}%\".format(x * 100)))\n",
    "for item in ax.get_xticklabels():\n",
    "    item.set_rotation(90)"
   ]
  },
  {
   "cell_type": "code",
   "execution_count": 26,
   "metadata": {},
   "outputs": [],
   "source": [
    "breed_price = housepriceavg.groupby('common_breed').mean()['price'].sort_values(ascending = False)"
   ]
  },
  {
   "cell_type": "code",
   "execution_count": 27,
   "metadata": {},
   "outputs": [
    {
     "data": {
      "image/png": "[encoded data removed]",
      "text/plain": [
       "<Figure size 432x288 with 1 Axes>"
      ]
     },
     "metadata": {
      "needs_background": "light"
     },
     "output_type": "display_data"
    }
   ],
   "source": [
    "ax = sns.barplot(x=breed_price.index, y=breed_price.values, palette=\"rocket\")\n",
    "for item in ax.get_xticklabels():\n",
    "    item.set_rotation(90)\n",
    "ax.set(xlabel='Popular Breed', ylabel='Average House Price')\n",
    "ax.get_yaxis().set_major_formatter(plt.FuncFormatter(lambda x, loc: \"${:,}\".format(int(x))))"
   ]
  },
  {
   "cell_type": "code",
   "execution_count": null,
   "metadata": {},
   "outputs": [],
   "source": []
  }
 ],
 "metadata": {
  "kernelspec": {
   "display_name": "Python 3",
   "language": "python",
   "name": "python3"
  },
  "language_info": {
   "codemirror_mode": {
    "name": "ipython",
    "version": 3
   },
   "file_extension": ".py",
   "mimetype": "text/x-python",
   "name": "python",
   "nbconvert_exporter": "python",
   "pygments_lexer": "ipython3",
   "version": "3.5.6"
  }
 },
 "nbformat": 4,
 "nbformat_minor": 2
}
